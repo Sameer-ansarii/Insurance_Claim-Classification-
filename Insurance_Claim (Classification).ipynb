{
 "cells": [
  {
   "cell_type": "code",
   "execution_count": 1,
   "id": "c0fbcce3",
   "metadata": {},
   "outputs": [],
   "source": [
    "# importing required libraries\n",
    "\n",
    "import pandas as pd\n",
    "import numpy as np\n",
    "import matplotlib.pyplot as plt\n",
    "import seaborn as sns"
   ]
  },
  {
   "cell_type": "code",
   "execution_count": 2,
   "id": "77560067",
   "metadata": {},
   "outputs": [
    {
     "data": {
      "text/html": [
       "<div>\n",
       "<style scoped>\n",
       "    .dataframe tbody tr th:only-of-type {\n",
       "        vertical-align: middle;\n",
       "    }\n",
       "\n",
       "    .dataframe tbody tr th {\n",
       "        vertical-align: top;\n",
       "    }\n",
       "\n",
       "    .dataframe thead th {\n",
       "        text-align: right;\n",
       "    }\n",
       "</style>\n",
       "<table border=\"1\" class=\"dataframe\">\n",
       "  <thead>\n",
       "    <tr style=\"text-align: right;\">\n",
       "      <th></th>\n",
       "      <th>age</th>\n",
       "      <th>sex</th>\n",
       "      <th>bmi</th>\n",
       "      <th>children</th>\n",
       "      <th>smoker</th>\n",
       "      <th>region</th>\n",
       "      <th>charges</th>\n",
       "      <th>insuranceclaim</th>\n",
       "    </tr>\n",
       "  </thead>\n",
       "  <tbody>\n",
       "    <tr>\n",
       "      <th>0</th>\n",
       "      <td>19</td>\n",
       "      <td>0</td>\n",
       "      <td>27.900</td>\n",
       "      <td>0</td>\n",
       "      <td>1</td>\n",
       "      <td>3</td>\n",
       "      <td>16884.92400</td>\n",
       "      <td>1</td>\n",
       "    </tr>\n",
       "    <tr>\n",
       "      <th>1</th>\n",
       "      <td>18</td>\n",
       "      <td>1</td>\n",
       "      <td>33.770</td>\n",
       "      <td>1</td>\n",
       "      <td>0</td>\n",
       "      <td>2</td>\n",
       "      <td>1725.55230</td>\n",
       "      <td>1</td>\n",
       "    </tr>\n",
       "    <tr>\n",
       "      <th>2</th>\n",
       "      <td>28</td>\n",
       "      <td>1</td>\n",
       "      <td>33.000</td>\n",
       "      <td>3</td>\n",
       "      <td>0</td>\n",
       "      <td>2</td>\n",
       "      <td>4449.46200</td>\n",
       "      <td>0</td>\n",
       "    </tr>\n",
       "    <tr>\n",
       "      <th>3</th>\n",
       "      <td>33</td>\n",
       "      <td>1</td>\n",
       "      <td>22.705</td>\n",
       "      <td>0</td>\n",
       "      <td>0</td>\n",
       "      <td>1</td>\n",
       "      <td>21984.47061</td>\n",
       "      <td>0</td>\n",
       "    </tr>\n",
       "    <tr>\n",
       "      <th>4</th>\n",
       "      <td>32</td>\n",
       "      <td>1</td>\n",
       "      <td>28.880</td>\n",
       "      <td>0</td>\n",
       "      <td>0</td>\n",
       "      <td>1</td>\n",
       "      <td>3866.85520</td>\n",
       "      <td>1</td>\n",
       "    </tr>\n",
       "  </tbody>\n",
       "</table>\n",
       "</div>"
      ],
      "text/plain": [
       "   age  sex     bmi  children  smoker  region      charges  insuranceclaim\n",
       "0   19    0  27.900         0       1       3  16884.92400               1\n",
       "1   18    1  33.770         1       0       2   1725.55230               1\n",
       "2   28    1  33.000         3       0       2   4449.46200               0\n",
       "3   33    1  22.705         0       0       1  21984.47061               0\n",
       "4   32    1  28.880         0       0       1   3866.85520               1"
      ]
     },
     "execution_count": 2,
     "metadata": {},
     "output_type": "execute_result"
    }
   ],
   "source": [
    "df = pd.read_csv(r'C:\\Users\\HP\\Desktop\\Data Science\\Projects\\Insurance Claim\\insurance.csv')\n",
    "df.head()"
   ]
  },
  {
   "cell_type": "markdown",
   "id": "5764f075",
   "metadata": {},
   "source": [
    "# EDA"
   ]
  },
  {
   "cell_type": "code",
   "execution_count": 3,
   "id": "1dea5ffa",
   "metadata": {},
   "outputs": [
    {
     "data": {
      "text/plain": [
       "(1338, 8)"
      ]
     },
     "execution_count": 3,
     "metadata": {},
     "output_type": "execute_result"
    }
   ],
   "source": [
    "df.shape"
   ]
  },
  {
   "cell_type": "code",
   "execution_count": 4,
   "id": "4760a145",
   "metadata": {},
   "outputs": [
    {
     "data": {
      "text/plain": [
       "Index(['age', 'sex', 'bmi', 'children', 'smoker', 'region', 'charges',\n",
       "       'insuranceclaim'],\n",
       "      dtype='object')"
      ]
     },
     "execution_count": 4,
     "metadata": {},
     "output_type": "execute_result"
    }
   ],
   "source": [
    "df.columns"
   ]
  },
  {
   "cell_type": "code",
   "execution_count": 5,
   "id": "2049098f",
   "metadata": {},
   "outputs": [
    {
     "name": "stdout",
     "output_type": "stream",
     "text": [
      "<class 'pandas.core.frame.DataFrame'>\n",
      "RangeIndex: 1338 entries, 0 to 1337\n",
      "Data columns (total 8 columns):\n",
      " #   Column          Non-Null Count  Dtype  \n",
      "---  ------          --------------  -----  \n",
      " 0   age             1338 non-null   int64  \n",
      " 1   sex             1338 non-null   int64  \n",
      " 2   bmi             1338 non-null   float64\n",
      " 3   children        1338 non-null   int64  \n",
      " 4   smoker          1338 non-null   int64  \n",
      " 5   region          1338 non-null   int64  \n",
      " 6   charges         1338 non-null   float64\n",
      " 7   insuranceclaim  1338 non-null   int64  \n",
      "dtypes: float64(2), int64(6)\n",
      "memory usage: 83.8 KB\n"
     ]
    }
   ],
   "source": [
    "df.info()"
   ]
  },
  {
   "cell_type": "markdown",
   "id": "6a1427a2",
   "metadata": {},
   "source": [
    "**All variables have correct data type.**"
   ]
  },
  {
   "cell_type": "code",
   "execution_count": 6,
   "id": "25af4324",
   "metadata": {},
   "outputs": [
    {
     "data": {
      "text/plain": [
       "age               0.0\n",
       "sex               0.0\n",
       "bmi               0.0\n",
       "children          0.0\n",
       "smoker            0.0\n",
       "region            0.0\n",
       "charges           0.0\n",
       "insuranceclaim    0.0\n",
       "dtype: float64"
      ]
     },
     "execution_count": 6,
     "metadata": {},
     "output_type": "execute_result"
    }
   ],
   "source": [
    "df.isna().sum()/len(df)*100"
   ]
  },
  {
   "cell_type": "markdown",
   "id": "ef705549",
   "metadata": {},
   "source": [
    "**Data contains no null values.**"
   ]
  },
  {
   "cell_type": "code",
   "execution_count": 7,
   "id": "0b43946a",
   "metadata": {},
   "outputs": [
    {
     "data": {
      "text/plain": [
       "1"
      ]
     },
     "execution_count": 7,
     "metadata": {},
     "output_type": "execute_result"
    }
   ],
   "source": [
    "df.duplicated().sum()"
   ]
  },
  {
   "cell_type": "code",
   "execution_count": 8,
   "id": "be055e4a",
   "metadata": {},
   "outputs": [],
   "source": [
    "df.drop_duplicates(inplace=True)"
   ]
  },
  {
   "cell_type": "code",
   "execution_count": 9,
   "id": "c5922e1e",
   "metadata": {},
   "outputs": [
    {
     "data": {
      "text/plain": [
       "0"
      ]
     },
     "execution_count": 9,
     "metadata": {},
     "output_type": "execute_result"
    }
   ],
   "source": [
    "df.duplicated().sum()"
   ]
  },
  {
   "cell_type": "markdown",
   "id": "46e75d70",
   "metadata": {},
   "source": [
    "**Duplicate value successfully removed.**"
   ]
  },
  {
   "cell_type": "code",
   "execution_count": 10,
   "id": "4643bce6",
   "metadata": {},
   "outputs": [
    {
     "data": {
      "text/html": [
       "<div>\n",
       "<style scoped>\n",
       "    .dataframe tbody tr th:only-of-type {\n",
       "        vertical-align: middle;\n",
       "    }\n",
       "\n",
       "    .dataframe tbody tr th {\n",
       "        vertical-align: top;\n",
       "    }\n",
       "\n",
       "    .dataframe thead th {\n",
       "        text-align: right;\n",
       "    }\n",
       "</style>\n",
       "<table border=\"1\" class=\"dataframe\">\n",
       "  <thead>\n",
       "    <tr style=\"text-align: right;\">\n",
       "      <th></th>\n",
       "      <th>age</th>\n",
       "      <th>sex</th>\n",
       "      <th>bmi</th>\n",
       "      <th>children</th>\n",
       "      <th>smoker</th>\n",
       "      <th>region</th>\n",
       "      <th>charges</th>\n",
       "      <th>insuranceclaim</th>\n",
       "    </tr>\n",
       "  </thead>\n",
       "  <tbody>\n",
       "    <tr>\n",
       "      <th>count</th>\n",
       "      <td>1337.000000</td>\n",
       "      <td>1337.000000</td>\n",
       "      <td>1337.000000</td>\n",
       "      <td>1337.000000</td>\n",
       "      <td>1337.000000</td>\n",
       "      <td>1337.000000</td>\n",
       "      <td>1337.000000</td>\n",
       "      <td>1337.000000</td>\n",
       "    </tr>\n",
       "    <tr>\n",
       "      <th>mean</th>\n",
       "      <td>39.222139</td>\n",
       "      <td>0.504862</td>\n",
       "      <td>30.663452</td>\n",
       "      <td>1.095737</td>\n",
       "      <td>0.204936</td>\n",
       "      <td>1.516081</td>\n",
       "      <td>13279.121487</td>\n",
       "      <td>0.584892</td>\n",
       "    </tr>\n",
       "    <tr>\n",
       "      <th>std</th>\n",
       "      <td>14.044333</td>\n",
       "      <td>0.500163</td>\n",
       "      <td>6.100468</td>\n",
       "      <td>1.205571</td>\n",
       "      <td>0.403806</td>\n",
       "      <td>1.105208</td>\n",
       "      <td>12110.359656</td>\n",
       "      <td>0.492925</td>\n",
       "    </tr>\n",
       "    <tr>\n",
       "      <th>min</th>\n",
       "      <td>18.000000</td>\n",
       "      <td>0.000000</td>\n",
       "      <td>15.960000</td>\n",
       "      <td>0.000000</td>\n",
       "      <td>0.000000</td>\n",
       "      <td>0.000000</td>\n",
       "      <td>1121.873900</td>\n",
       "      <td>0.000000</td>\n",
       "    </tr>\n",
       "    <tr>\n",
       "      <th>49%</th>\n",
       "      <td>39.000000</td>\n",
       "      <td>0.000000</td>\n",
       "      <td>30.200000</td>\n",
       "      <td>1.000000</td>\n",
       "      <td>0.000000</td>\n",
       "      <td>2.000000</td>\n",
       "      <td>9189.637840</td>\n",
       "      <td>1.000000</td>\n",
       "    </tr>\n",
       "    <tr>\n",
       "      <th>50%</th>\n",
       "      <td>39.000000</td>\n",
       "      <td>1.000000</td>\n",
       "      <td>30.400000</td>\n",
       "      <td>1.000000</td>\n",
       "      <td>0.000000</td>\n",
       "      <td>2.000000</td>\n",
       "      <td>9386.161300</td>\n",
       "      <td>1.000000</td>\n",
       "    </tr>\n",
       "    <tr>\n",
       "      <th>99%</th>\n",
       "      <td>64.000000</td>\n",
       "      <td>1.000000</td>\n",
       "      <td>46.411200</td>\n",
       "      <td>5.000000</td>\n",
       "      <td>1.000000</td>\n",
       "      <td>3.000000</td>\n",
       "      <td>48537.796878</td>\n",
       "      <td>1.000000</td>\n",
       "    </tr>\n",
       "    <tr>\n",
       "      <th>max</th>\n",
       "      <td>64.000000</td>\n",
       "      <td>1.000000</td>\n",
       "      <td>53.130000</td>\n",
       "      <td>5.000000</td>\n",
       "      <td>1.000000</td>\n",
       "      <td>3.000000</td>\n",
       "      <td>63770.428010</td>\n",
       "      <td>1.000000</td>\n",
       "    </tr>\n",
       "  </tbody>\n",
       "</table>\n",
       "</div>"
      ],
      "text/plain": [
       "               age          sex          bmi     children       smoker  \\\n",
       "count  1337.000000  1337.000000  1337.000000  1337.000000  1337.000000   \n",
       "mean     39.222139     0.504862    30.663452     1.095737     0.204936   \n",
       "std      14.044333     0.500163     6.100468     1.205571     0.403806   \n",
       "min      18.000000     0.000000    15.960000     0.000000     0.000000   \n",
       "49%      39.000000     0.000000    30.200000     1.000000     0.000000   \n",
       "50%      39.000000     1.000000    30.400000     1.000000     0.000000   \n",
       "99%      64.000000     1.000000    46.411200     5.000000     1.000000   \n",
       "max      64.000000     1.000000    53.130000     5.000000     1.000000   \n",
       "\n",
       "            region       charges  insuranceclaim  \n",
       "count  1337.000000   1337.000000     1337.000000  \n",
       "mean      1.516081  13279.121487        0.584892  \n",
       "std       1.105208  12110.359656        0.492925  \n",
       "min       0.000000   1121.873900        0.000000  \n",
       "49%       2.000000   9189.637840        1.000000  \n",
       "50%       2.000000   9386.161300        1.000000  \n",
       "99%       3.000000  48537.796878        1.000000  \n",
       "max       3.000000  63770.428010        1.000000  "
      ]
     },
     "execution_count": 10,
     "metadata": {},
     "output_type": "execute_result"
    }
   ],
   "source": [
    "df.describe(percentiles=[0.49,0.99])"
   ]
  },
  {
   "cell_type": "markdown",
   "id": "83b2957f",
   "metadata": {},
   "source": [
    "**75% people has age between 18-51.**\n",
    "\n",
    "\n",
    "**50% people only has 1 child and 25% people have 2 children.**\n",
    "\n",
    "\n",
    "**Most of the people are non-smokers.**\n",
    "\n",
    "\n",
    "**Most of teh people claims insurance.**"
   ]
  },
  {
   "cell_type": "code",
   "execution_count": 11,
   "id": "b4b6cbc8",
   "metadata": {},
   "outputs": [
    {
     "data": {
      "text/html": [
       "<div>\n",
       "<style scoped>\n",
       "    .dataframe tbody tr th:only-of-type {\n",
       "        vertical-align: middle;\n",
       "    }\n",
       "\n",
       "    .dataframe tbody tr th {\n",
       "        vertical-align: top;\n",
       "    }\n",
       "\n",
       "    .dataframe thead th {\n",
       "        text-align: right;\n",
       "    }\n",
       "</style>\n",
       "<table border=\"1\" class=\"dataframe\">\n",
       "  <thead>\n",
       "    <tr style=\"text-align: right;\">\n",
       "      <th></th>\n",
       "      <th>age</th>\n",
       "      <th>sex</th>\n",
       "      <th>bmi</th>\n",
       "      <th>children</th>\n",
       "      <th>smoker</th>\n",
       "      <th>region</th>\n",
       "      <th>charges</th>\n",
       "      <th>insuranceclaim</th>\n",
       "    </tr>\n",
       "  </thead>\n",
       "  <tbody>\n",
       "    <tr>\n",
       "      <th>age</th>\n",
       "      <td>1.000000</td>\n",
       "      <td>-0.019814</td>\n",
       "      <td>0.109344</td>\n",
       "      <td>0.041536</td>\n",
       "      <td>-0.025587</td>\n",
       "      <td>0.001626</td>\n",
       "      <td>0.298308</td>\n",
       "      <td>0.114748</td>\n",
       "    </tr>\n",
       "    <tr>\n",
       "      <th>sex</th>\n",
       "      <td>-0.019814</td>\n",
       "      <td>1.000000</td>\n",
       "      <td>0.046397</td>\n",
       "      <td>0.017848</td>\n",
       "      <td>0.076596</td>\n",
       "      <td>0.004936</td>\n",
       "      <td>0.058044</td>\n",
       "      <td>0.030962</td>\n",
       "    </tr>\n",
       "    <tr>\n",
       "      <th>bmi</th>\n",
       "      <td>0.109344</td>\n",
       "      <td>0.046397</td>\n",
       "      <td>1.000000</td>\n",
       "      <td>0.012755</td>\n",
       "      <td>0.003746</td>\n",
       "      <td>0.157574</td>\n",
       "      <td>0.198401</td>\n",
       "      <td>0.384307</td>\n",
       "    </tr>\n",
       "    <tr>\n",
       "      <th>children</th>\n",
       "      <td>0.041536</td>\n",
       "      <td>0.017848</td>\n",
       "      <td>0.012755</td>\n",
       "      <td>1.000000</td>\n",
       "      <td>0.007331</td>\n",
       "      <td>0.016258</td>\n",
       "      <td>0.067389</td>\n",
       "      <td>-0.409189</td>\n",
       "    </tr>\n",
       "    <tr>\n",
       "      <th>smoker</th>\n",
       "      <td>-0.025587</td>\n",
       "      <td>0.076596</td>\n",
       "      <td>0.003746</td>\n",
       "      <td>0.007331</td>\n",
       "      <td>1.000000</td>\n",
       "      <td>-0.002358</td>\n",
       "      <td>0.787234</td>\n",
       "      <td>0.333701</td>\n",
       "    </tr>\n",
       "    <tr>\n",
       "      <th>region</th>\n",
       "      <td>0.001626</td>\n",
       "      <td>0.004936</td>\n",
       "      <td>0.157574</td>\n",
       "      <td>0.016258</td>\n",
       "      <td>-0.002358</td>\n",
       "      <td>1.000000</td>\n",
       "      <td>-0.006547</td>\n",
       "      <td>0.021193</td>\n",
       "    </tr>\n",
       "    <tr>\n",
       "      <th>charges</th>\n",
       "      <td>0.298308</td>\n",
       "      <td>0.058044</td>\n",
       "      <td>0.198401</td>\n",
       "      <td>0.067389</td>\n",
       "      <td>0.787234</td>\n",
       "      <td>-0.006547</td>\n",
       "      <td>1.000000</td>\n",
       "      <td>0.310213</td>\n",
       "    </tr>\n",
       "    <tr>\n",
       "      <th>insuranceclaim</th>\n",
       "      <td>0.114748</td>\n",
       "      <td>0.030962</td>\n",
       "      <td>0.384307</td>\n",
       "      <td>-0.409189</td>\n",
       "      <td>0.333701</td>\n",
       "      <td>0.021193</td>\n",
       "      <td>0.310213</td>\n",
       "      <td>1.000000</td>\n",
       "    </tr>\n",
       "  </tbody>\n",
       "</table>\n",
       "</div>"
      ],
      "text/plain": [
       "                     age       sex       bmi  children    smoker    region  \\\n",
       "age             1.000000 -0.019814  0.109344  0.041536 -0.025587  0.001626   \n",
       "sex            -0.019814  1.000000  0.046397  0.017848  0.076596  0.004936   \n",
       "bmi             0.109344  0.046397  1.000000  0.012755  0.003746  0.157574   \n",
       "children        0.041536  0.017848  0.012755  1.000000  0.007331  0.016258   \n",
       "smoker         -0.025587  0.076596  0.003746  0.007331  1.000000 -0.002358   \n",
       "region          0.001626  0.004936  0.157574  0.016258 -0.002358  1.000000   \n",
       "charges         0.298308  0.058044  0.198401  0.067389  0.787234 -0.006547   \n",
       "insuranceclaim  0.114748  0.030962  0.384307 -0.409189  0.333701  0.021193   \n",
       "\n",
       "                 charges  insuranceclaim  \n",
       "age             0.298308        0.114748  \n",
       "sex             0.058044        0.030962  \n",
       "bmi             0.198401        0.384307  \n",
       "children        0.067389       -0.409189  \n",
       "smoker          0.787234        0.333701  \n",
       "region         -0.006547        0.021193  \n",
       "charges         1.000000        0.310213  \n",
       "insuranceclaim  0.310213        1.000000  "
      ]
     },
     "execution_count": 11,
     "metadata": {},
     "output_type": "execute_result"
    }
   ],
   "source": [
    "df.corr()"
   ]
  },
  {
   "cell_type": "code",
   "execution_count": 12,
   "id": "24215552",
   "metadata": {},
   "outputs": [
    {
     "data": {
      "image/png": "[encoded data removed]",
      "text/plain": [
       "<Figure size 1000x1000 with 2 Axes>"
      ]
     },
     "metadata": {},
     "output_type": "display_data"
    }
   ],
   "source": [
    "corr_matrix = df.corr()\n",
    "plt.figure(figsize=(10,10)) #(width,height)\n",
    "sns.heatmap(corr_matrix, annot=True, cmap='coolwarm', square=True)\n",
    "plt.title('Correlation Matrix Heatmap')\n",
    "plt.show()"
   ]
  },
  {
   "cell_type": "markdown",
   "id": "c06a5fcc",
   "metadata": {},
   "source": [
    "**Only 1 pair of variables has slightly high positive correlation: Charges & Smokers. That means charges of insurance is high for people who smokes.**"
   ]
  },
  {
   "cell_type": "markdown",
   "id": "770009b1",
   "metadata": {},
   "source": [
    "* **Dataset has no null values.**\n",
    "\n",
    "\n",
    "* **All variables has correct data type that means there is no suspicious value is present in any of the variable.**\n",
    "\n",
    "\n",
    "* **There is only 1 duplicate value which I was removed.**\n",
    "\n",
    "**Dataset is cleaned now for further analysis.**"
   ]
  },
  {
   "cell_type": "markdown",
   "id": "964d8d71",
   "metadata": {},
   "source": [
    "# Feature Engineering"
   ]
  },
  {
   "cell_type": "markdown",
   "id": "b72d5a72",
   "metadata": {},
   "source": [
    "## Outlier Treatment"
   ]
  },
  {
   "cell_type": "code",
   "execution_count": 13,
   "id": "bae0cdf5",
   "metadata": {},
   "outputs": [
    {
     "data": {
      "image/png": "[encoded data removed]",
      "text/plain": [
       "<Figure size 2400x1600 with 1 Axes>"
      ]
     },
     "metadata": {},
     "output_type": "display_data"
    }
   ],
   "source": [
    "#checking the outliers of all numerical columns\n",
    "\n",
    "plt.figure(figsize=(24, 16)) #(width,height)\n",
    "df.boxplot()\n",
    "plt.title('Box Plot of Numerical Columns')\n",
    "plt.xlabel('Columns')\n",
    "plt.ylabel('Values')\n",
    "plt.show()"
   ]
  },
  {
   "cell_type": "markdown",
   "id": "54b910b9",
   "metadata": {},
   "source": [
    "**Only 'Charges' variable have outliers, which is reasonable because insurance charges are not same for all people and in statistical summary I see that charges are high for persons who smokes.**\n",
    "\n",
    "\n",
    "**Number of outliers are more, if I removed outliers by using IQR method than most of the data will be reduced. So, I decided to remove outliers with the help of Z-Score Method.**"
   ]
  },
  {
   "cell_type": "markdown",
   "id": "2edcbc4b",
   "metadata": {},
   "source": [
    "## Treating Outliers: Z-Score Method"
   ]
  },
  {
   "cell_type": "code",
   "execution_count": 14,
   "id": "6b5de66b",
   "metadata": {},
   "outputs": [],
   "source": [
    "#create a variable for all interger and float variables\n",
    "\n",
    "numerical_columns = df.select_dtypes(include=['number', 'float']).columns"
   ]
  },
  {
   "cell_type": "code",
   "execution_count": 15,
   "id": "b9b02d38",
   "metadata": {},
   "outputs": [
    {
     "data": {
      "text/html": [
       "<div>\n",
       "<style scoped>\n",
       "    .dataframe tbody tr th:only-of-type {\n",
       "        vertical-align: middle;\n",
       "    }\n",
       "\n",
       "    .dataframe tbody tr th {\n",
       "        vertical-align: top;\n",
       "    }\n",
       "\n",
       "    .dataframe thead th {\n",
       "        text-align: right;\n",
       "    }\n",
       "</style>\n",
       "<table border=\"1\" class=\"dataframe\">\n",
       "  <thead>\n",
       "    <tr style=\"text-align: right;\">\n",
       "      <th></th>\n",
       "      <th>age</th>\n",
       "      <th>sex</th>\n",
       "      <th>bmi</th>\n",
       "      <th>children</th>\n",
       "      <th>smoker</th>\n",
       "      <th>region</th>\n",
       "      <th>charges</th>\n",
       "      <th>insuranceclaim</th>\n",
       "    </tr>\n",
       "  </thead>\n",
       "  <tbody>\n",
       "    <tr>\n",
       "      <th>0</th>\n",
       "      <td>1.439879</td>\n",
       "      <td>1.009393</td>\n",
       "      <td>0.452990</td>\n",
       "      <td>0.908894</td>\n",
       "      <td>1.968924</td>\n",
       "      <td>1.342660</td>\n",
       "      <td>0.297745</td>\n",
       "      <td>0.842133</td>\n",
       "    </tr>\n",
       "    <tr>\n",
       "      <th>1</th>\n",
       "      <td>1.511082</td>\n",
       "      <td>0.989953</td>\n",
       "      <td>0.509231</td>\n",
       "      <td>0.079412</td>\n",
       "      <td>0.507512</td>\n",
       "      <td>0.437853</td>\n",
       "      <td>0.954024</td>\n",
       "      <td>0.842133</td>\n",
       "    </tr>\n",
       "    <tr>\n",
       "      <th>2</th>\n",
       "      <td>0.799051</td>\n",
       "      <td>0.989953</td>\n",
       "      <td>0.383011</td>\n",
       "      <td>1.579552</td>\n",
       "      <td>0.507512</td>\n",
       "      <td>0.437853</td>\n",
       "      <td>0.729100</td>\n",
       "      <td>1.186573</td>\n",
       "    </tr>\n",
       "    <tr>\n",
       "      <th>3</th>\n",
       "      <td>0.443036</td>\n",
       "      <td>0.989953</td>\n",
       "      <td>1.304564</td>\n",
       "      <td>0.908894</td>\n",
       "      <td>0.507512</td>\n",
       "      <td>0.466953</td>\n",
       "      <td>0.718835</td>\n",
       "      <td>1.186573</td>\n",
       "    </tr>\n",
       "    <tr>\n",
       "      <th>4</th>\n",
       "      <td>0.514239</td>\n",
       "      <td>0.989953</td>\n",
       "      <td>0.292347</td>\n",
       "      <td>0.908894</td>\n",
       "      <td>0.507512</td>\n",
       "      <td>0.466953</td>\n",
       "      <td>0.777208</td>\n",
       "      <td>0.842133</td>\n",
       "    </tr>\n",
       "  </tbody>\n",
       "</table>\n",
       "</div>"
      ],
      "text/plain": [
       "        age       sex       bmi  children    smoker    region   charges  \\\n",
       "0  1.439879  1.009393  0.452990  0.908894  1.968924  1.342660  0.297745   \n",
       "1  1.511082  0.989953  0.509231  0.079412  0.507512  0.437853  0.954024   \n",
       "2  0.799051  0.989953  0.383011  1.579552  0.507512  0.437853  0.729100   \n",
       "3  0.443036  0.989953  1.304564  0.908894  0.507512  0.466953  0.718835   \n",
       "4  0.514239  0.989953  0.292347  0.908894  0.507512  0.466953  0.777208   \n",
       "\n",
       "   insuranceclaim  \n",
       "0        0.842133  \n",
       "1        0.842133  \n",
       "2        1.186573  \n",
       "3        1.186573  \n",
       "4        0.842133  "
      ]
     },
     "execution_count": 15,
     "metadata": {},
     "output_type": "execute_result"
    }
   ],
   "source": [
    "#calculate Z-score of all values of all variables and a new dataframe of it\n",
    "\n",
    "z_scores = pd.DataFrame()\n",
    "for column in numerical_columns:\n",
    "    z_scores[column] = np.abs((df[column] - df[column].mean()) / df[column].std())\n",
    "\n",
    "z_scores.head()"
   ]
  },
  {
   "cell_type": "code",
   "execution_count": 16,
   "id": "732456c1",
   "metadata": {},
   "outputs": [
    {
     "data": {
      "text/html": [
       "<div>\n",
       "<style scoped>\n",
       "    .dataframe tbody tr th:only-of-type {\n",
       "        vertical-align: middle;\n",
       "    }\n",
       "\n",
       "    .dataframe tbody tr th {\n",
       "        vertical-align: top;\n",
       "    }\n",
       "\n",
       "    .dataframe thead th {\n",
       "        text-align: right;\n",
       "    }\n",
       "</style>\n",
       "<table border=\"1\" class=\"dataframe\">\n",
       "  <thead>\n",
       "    <tr style=\"text-align: right;\">\n",
       "      <th></th>\n",
       "      <th>age</th>\n",
       "      <th>sex</th>\n",
       "      <th>bmi</th>\n",
       "      <th>children</th>\n",
       "      <th>smoker</th>\n",
       "      <th>region</th>\n",
       "      <th>charges</th>\n",
       "      <th>insuranceclaim</th>\n",
       "    </tr>\n",
       "  </thead>\n",
       "  <tbody>\n",
       "    <tr>\n",
       "      <th>32</th>\n",
       "      <td>1.439879</td>\n",
       "      <td>1.009393</td>\n",
       "      <td>0.338245</td>\n",
       "      <td>3.238517</td>\n",
       "      <td>0.507512</td>\n",
       "      <td>1.342660</td>\n",
       "      <td>0.709419</td>\n",
       "      <td>1.186573</td>\n",
       "    </tr>\n",
       "    <tr>\n",
       "      <th>34</th>\n",
       "      <td>0.799051</td>\n",
       "      <td>0.989953</td>\n",
       "      <td>0.940346</td>\n",
       "      <td>0.079412</td>\n",
       "      <td>1.968924</td>\n",
       "      <td>1.342660</td>\n",
       "      <td>3.130827</td>\n",
       "      <td>0.842133</td>\n",
       "    </tr>\n",
       "    <tr>\n",
       "      <th>71</th>\n",
       "      <td>0.585442</td>\n",
       "      <td>0.989953</td>\n",
       "      <td>0.354637</td>\n",
       "      <td>3.238517</td>\n",
       "      <td>0.507512</td>\n",
       "      <td>1.371760</td>\n",
       "      <td>0.535051</td>\n",
       "      <td>1.186573</td>\n",
       "    </tr>\n",
       "    <tr>\n",
       "      <th>116</th>\n",
       "      <td>1.337042</td>\n",
       "      <td>0.989953</td>\n",
       "      <td>3.015596</td>\n",
       "      <td>0.908894</td>\n",
       "      <td>0.507512</td>\n",
       "      <td>0.437853</td>\n",
       "      <td>0.156708</td>\n",
       "      <td>0.842133</td>\n",
       "    </tr>\n",
       "    <tr>\n",
       "      <th>166</th>\n",
       "      <td>1.368676</td>\n",
       "      <td>1.009393</td>\n",
       "      <td>1.038699</td>\n",
       "      <td>3.238517</td>\n",
       "      <td>0.507512</td>\n",
       "      <td>1.342660</td>\n",
       "      <td>0.697625</td>\n",
       "      <td>1.186573</td>\n",
       "    </tr>\n",
       "    <tr>\n",
       "      <th>413</th>\n",
       "      <td>1.012660</td>\n",
       "      <td>0.989953</td>\n",
       "      <td>1.108677</td>\n",
       "      <td>3.238517</td>\n",
       "      <td>0.507512</td>\n",
       "      <td>1.342660</td>\n",
       "      <td>0.677026</td>\n",
       "      <td>1.186573</td>\n",
       "    </tr>\n",
       "    <tr>\n",
       "      <th>425</th>\n",
       "      <td>0.411402</td>\n",
       "      <td>0.989953</td>\n",
       "      <td>1.041469</td>\n",
       "      <td>3.238517</td>\n",
       "      <td>0.507512</td>\n",
       "      <td>0.437853</td>\n",
       "      <td>0.288204</td>\n",
       "      <td>1.186573</td>\n",
       "    </tr>\n",
       "    <tr>\n",
       "      <th>438</th>\n",
       "      <td>0.909823</td>\n",
       "      <td>1.009393</td>\n",
       "      <td>2.636937</td>\n",
       "      <td>3.238517</td>\n",
       "      <td>0.507512</td>\n",
       "      <td>0.437853</td>\n",
       "      <td>0.056694</td>\n",
       "      <td>0.842133</td>\n",
       "    </tr>\n",
       "    <tr>\n",
       "      <th>543</th>\n",
       "      <td>1.052229</td>\n",
       "      <td>1.009393</td>\n",
       "      <td>2.745125</td>\n",
       "      <td>0.908894</td>\n",
       "      <td>1.968924</td>\n",
       "      <td>0.437853</td>\n",
       "      <td>4.169266</td>\n",
       "      <td>0.842133</td>\n",
       "    </tr>\n",
       "    <tr>\n",
       "      <th>568</th>\n",
       "      <td>0.696214</td>\n",
       "      <td>1.009393</td>\n",
       "      <td>0.202697</td>\n",
       "      <td>3.238517</td>\n",
       "      <td>0.507512</td>\n",
       "      <td>1.342660</td>\n",
       "      <td>0.142541</td>\n",
       "      <td>1.186573</td>\n",
       "    </tr>\n",
       "    <tr>\n",
       "      <th>577</th>\n",
       "      <td>0.585442</td>\n",
       "      <td>1.009393</td>\n",
       "      <td>1.218193</td>\n",
       "      <td>0.079412</td>\n",
       "      <td>1.968924</td>\n",
       "      <td>1.371760</td>\n",
       "      <td>3.739935</td>\n",
       "      <td>0.842133</td>\n",
       "    </tr>\n",
       "    <tr>\n",
       "      <th>640</th>\n",
       "      <td>0.443036</td>\n",
       "      <td>0.989953</td>\n",
       "      <td>1.923877</td>\n",
       "      <td>3.238517</td>\n",
       "      <td>0.507512</td>\n",
       "      <td>1.342660</td>\n",
       "      <td>0.546051</td>\n",
       "      <td>1.186573</td>\n",
       "    </tr>\n",
       "    <tr>\n",
       "      <th>819</th>\n",
       "      <td>0.443036</td>\n",
       "      <td>1.009393</td>\n",
       "      <td>0.797734</td>\n",
       "      <td>0.908894</td>\n",
       "      <td>1.968924</td>\n",
       "      <td>0.466953</td>\n",
       "      <td>3.456238</td>\n",
       "      <td>0.842133</td>\n",
       "    </tr>\n",
       "    <tr>\n",
       "      <th>847</th>\n",
       "      <td>1.155067</td>\n",
       "      <td>0.989953</td>\n",
       "      <td>3.231973</td>\n",
       "      <td>0.079412</td>\n",
       "      <td>0.507512</td>\n",
       "      <td>0.437853</td>\n",
       "      <td>0.895189</td>\n",
       "      <td>0.842133</td>\n",
       "    </tr>\n",
       "    <tr>\n",
       "      <th>877</th>\n",
       "      <td>0.443036</td>\n",
       "      <td>0.989953</td>\n",
       "      <td>0.455137</td>\n",
       "      <td>3.238517</td>\n",
       "      <td>0.507512</td>\n",
       "      <td>0.437853</td>\n",
       "      <td>0.547080</td>\n",
       "      <td>1.186573</td>\n",
       "    </tr>\n",
       "    <tr>\n",
       "      <th>932</th>\n",
       "      <td>0.482605</td>\n",
       "      <td>0.989953</td>\n",
       "      <td>0.797226</td>\n",
       "      <td>3.238517</td>\n",
       "      <td>0.507512</td>\n",
       "      <td>1.342660</td>\n",
       "      <td>0.262763</td>\n",
       "      <td>0.842133</td>\n",
       "    </tr>\n",
       "    <tr>\n",
       "      <th>937</th>\n",
       "      <td>0.015817</td>\n",
       "      <td>1.009393</td>\n",
       "      <td>1.055403</td>\n",
       "      <td>3.238517</td>\n",
       "      <td>0.507512</td>\n",
       "      <td>0.466953</td>\n",
       "      <td>0.356168</td>\n",
       "      <td>1.186573</td>\n",
       "    </tr>\n",
       "    <tr>\n",
       "      <th>969</th>\n",
       "      <td>0.015817</td>\n",
       "      <td>1.009393</td>\n",
       "      <td>0.599388</td>\n",
       "      <td>3.238517</td>\n",
       "      <td>0.507512</td>\n",
       "      <td>0.437853</td>\n",
       "      <td>0.386635</td>\n",
       "      <td>1.186573</td>\n",
       "    </tr>\n",
       "    <tr>\n",
       "      <th>984</th>\n",
       "      <td>1.368676</td>\n",
       "      <td>0.989953</td>\n",
       "      <td>0.089903</td>\n",
       "      <td>3.238517</td>\n",
       "      <td>0.507512</td>\n",
       "      <td>1.371760</td>\n",
       "      <td>0.690653</td>\n",
       "      <td>1.186573</td>\n",
       "    </tr>\n",
       "    <tr>\n",
       "      <th>1047</th>\n",
       "      <td>1.226270</td>\n",
       "      <td>0.989953</td>\n",
       "      <td>3.592601</td>\n",
       "      <td>0.079412</td>\n",
       "      <td>1.968924</td>\n",
       "      <td>0.437853</td>\n",
       "      <td>2.578146</td>\n",
       "      <td>0.842133</td>\n",
       "    </tr>\n",
       "    <tr>\n",
       "      <th>1085</th>\n",
       "      <td>0.015817</td>\n",
       "      <td>1.009393</td>\n",
       "      <td>2.026640</td>\n",
       "      <td>3.238517</td>\n",
       "      <td>1.968924</td>\n",
       "      <td>1.342660</td>\n",
       "      <td>0.474316</td>\n",
       "      <td>1.186573</td>\n",
       "    </tr>\n",
       "    <tr>\n",
       "      <th>1116</th>\n",
       "      <td>0.126589</td>\n",
       "      <td>0.989953</td>\n",
       "      <td>0.167766</td>\n",
       "      <td>3.238517</td>\n",
       "      <td>0.507512</td>\n",
       "      <td>1.371760</td>\n",
       "      <td>0.334979</td>\n",
       "      <td>0.842133</td>\n",
       "    </tr>\n",
       "    <tr>\n",
       "      <th>1130</th>\n",
       "      <td>0.015817</td>\n",
       "      <td>1.009393</td>\n",
       "      <td>1.113595</td>\n",
       "      <td>3.238517</td>\n",
       "      <td>0.507512</td>\n",
       "      <td>0.437853</td>\n",
       "      <td>0.387835</td>\n",
       "      <td>1.186573</td>\n",
       "    </tr>\n",
       "    <tr>\n",
       "      <th>1146</th>\n",
       "      <td>1.479448</td>\n",
       "      <td>0.989953</td>\n",
       "      <td>0.350227</td>\n",
       "      <td>0.908894</td>\n",
       "      <td>1.968924</td>\n",
       "      <td>1.342660</td>\n",
       "      <td>3.246122</td>\n",
       "      <td>0.842133</td>\n",
       "    </tr>\n",
       "    <tr>\n",
       "      <th>1230</th>\n",
       "      <td>0.909823</td>\n",
       "      <td>0.989953</td>\n",
       "      <td>0.626435</td>\n",
       "      <td>1.579552</td>\n",
       "      <td>1.968924</td>\n",
       "      <td>0.466953</td>\n",
       "      <td>3.859694</td>\n",
       "      <td>0.842133</td>\n",
       "    </tr>\n",
       "    <tr>\n",
       "      <th>1245</th>\n",
       "      <td>0.799051</td>\n",
       "      <td>0.989953</td>\n",
       "      <td>1.043109</td>\n",
       "      <td>3.238517</td>\n",
       "      <td>0.507512</td>\n",
       "      <td>1.342660</td>\n",
       "      <td>0.632826</td>\n",
       "      <td>1.186573</td>\n",
       "    </tr>\n",
       "    <tr>\n",
       "      <th>1272</th>\n",
       "      <td>0.268995</td>\n",
       "      <td>0.989953</td>\n",
       "      <td>0.843124</td>\n",
       "      <td>3.238517</td>\n",
       "      <td>0.507512</td>\n",
       "      <td>0.437853</td>\n",
       "      <td>0.099023</td>\n",
       "      <td>0.842133</td>\n",
       "    </tr>\n",
       "    <tr>\n",
       "      <th>1300</th>\n",
       "      <td>0.411402</td>\n",
       "      <td>0.989953</td>\n",
       "      <td>0.049742</td>\n",
       "      <td>0.908894</td>\n",
       "      <td>1.968924</td>\n",
       "      <td>0.437853</td>\n",
       "      <td>4.072030</td>\n",
       "      <td>0.842133</td>\n",
       "    </tr>\n",
       "    <tr>\n",
       "      <th>1317</th>\n",
       "      <td>1.511082</td>\n",
       "      <td>0.989953</td>\n",
       "      <td>3.682758</td>\n",
       "      <td>0.908894</td>\n",
       "      <td>0.507512</td>\n",
       "      <td>0.437853</td>\n",
       "      <td>1.000438</td>\n",
       "      <td>0.842133</td>\n",
       "    </tr>\n",
       "  </tbody>\n",
       "</table>\n",
       "</div>"
      ],
      "text/plain": [
       "           age       sex       bmi  children    smoker    region   charges  \\\n",
       "32    1.439879  1.009393  0.338245  3.238517  0.507512  1.342660  0.709419   \n",
       "34    0.799051  0.989953  0.940346  0.079412  1.968924  1.342660  3.130827   \n",
       "71    0.585442  0.989953  0.354637  3.238517  0.507512  1.371760  0.535051   \n",
       "116   1.337042  0.989953  3.015596  0.908894  0.507512  0.437853  0.156708   \n",
       "166   1.368676  1.009393  1.038699  3.238517  0.507512  1.342660  0.697625   \n",
       "413   1.012660  0.989953  1.108677  3.238517  0.507512  1.342660  0.677026   \n",
       "425   0.411402  0.989953  1.041469  3.238517  0.507512  0.437853  0.288204   \n",
       "438   0.909823  1.009393  2.636937  3.238517  0.507512  0.437853  0.056694   \n",
       "543   1.052229  1.009393  2.745125  0.908894  1.968924  0.437853  4.169266   \n",
       "568   0.696214  1.009393  0.202697  3.238517  0.507512  1.342660  0.142541   \n",
       "577   0.585442  1.009393  1.218193  0.079412  1.968924  1.371760  3.739935   \n",
       "640   0.443036  0.989953  1.923877  3.238517  0.507512  1.342660  0.546051   \n",
       "819   0.443036  1.009393  0.797734  0.908894  1.968924  0.466953  3.456238   \n",
       "847   1.155067  0.989953  3.231973  0.079412  0.507512  0.437853  0.895189   \n",
       "877   0.443036  0.989953  0.455137  3.238517  0.507512  0.437853  0.547080   \n",
       "932   0.482605  0.989953  0.797226  3.238517  0.507512  1.342660  0.262763   \n",
       "937   0.015817  1.009393  1.055403  3.238517  0.507512  0.466953  0.356168   \n",
       "969   0.015817  1.009393  0.599388  3.238517  0.507512  0.437853  0.386635   \n",
       "984   1.368676  0.989953  0.089903  3.238517  0.507512  1.371760  0.690653   \n",
       "1047  1.226270  0.989953  3.592601  0.079412  1.968924  0.437853  2.578146   \n",
       "1085  0.015817  1.009393  2.026640  3.238517  1.968924  1.342660  0.474316   \n",
       "1116  0.126589  0.989953  0.167766  3.238517  0.507512  1.371760  0.334979   \n",
       "1130  0.015817  1.009393  1.113595  3.238517  0.507512  0.437853  0.387835   \n",
       "1146  1.479448  0.989953  0.350227  0.908894  1.968924  1.342660  3.246122   \n",
       "1230  0.909823  0.989953  0.626435  1.579552  1.968924  0.466953  3.859694   \n",
       "1245  0.799051  0.989953  1.043109  3.238517  0.507512  1.342660  0.632826   \n",
       "1272  0.268995  0.989953  0.843124  3.238517  0.507512  0.437853  0.099023   \n",
       "1300  0.411402  0.989953  0.049742  0.908894  1.968924  0.437853  4.072030   \n",
       "1317  1.511082  0.989953  3.682758  0.908894  0.507512  0.437853  1.000438   \n",
       "\n",
       "      insuranceclaim  \n",
       "32          1.186573  \n",
       "34          0.842133  \n",
       "71          1.186573  \n",
       "116         0.842133  \n",
       "166         1.186573  \n",
       "413         1.186573  \n",
       "425         1.186573  \n",
       "438         0.842133  \n",
       "543         0.842133  \n",
       "568         1.186573  \n",
       "577         0.842133  \n",
       "640         1.186573  \n",
       "819         0.842133  \n",
       "847         0.842133  \n",
       "877         1.186573  \n",
       "932         0.842133  \n",
       "937         1.186573  \n",
       "969         1.186573  \n",
       "984         1.186573  \n",
       "1047        0.842133  \n",
       "1085        1.186573  \n",
       "1116        0.842133  \n",
       "1130        1.186573  \n",
       "1146        0.842133  \n",
       "1230        0.842133  \n",
       "1245        1.186573  \n",
       "1272        0.842133  \n",
       "1300        0.842133  \n",
       "1317        0.842133  "
      ]
     },
     "execution_count": 16,
     "metadata": {},
     "output_type": "execute_result"
    }
   ],
   "source": [
    "#Setting a threshold of 3 means that any value outside the range of -3 to +3 standard deviations is considered as outlier\n",
    "\n",
    "threshold = 3\n",
    "outlier_rows = z_scores[(z_scores > threshold).any(axis=1)]\n",
    "outlier_rows"
   ]
  },
  {
   "cell_type": "code",
   "execution_count": 17,
   "id": "cb9848b9",
   "metadata": {},
   "outputs": [
    {
     "data": {
      "text/plain": [
       "(29, 8)"
      ]
     },
     "execution_count": 17,
     "metadata": {},
     "output_type": "execute_result"
    }
   ],
   "source": [
    "outlier_rows.shape"
   ]
  },
  {
   "cell_type": "markdown",
   "id": "a5b3437a",
   "metadata": {},
   "source": [
    "**There are 29 outliers in data.**"
   ]
  },
  {
   "cell_type": "code",
   "execution_count": 18,
   "id": "b18251c1",
   "metadata": {},
   "outputs": [],
   "source": [
    "#dropping outliers\n",
    "\n",
    "df = df.drop(outlier_rows.index)"
   ]
  },
  {
   "cell_type": "code",
   "execution_count": 19,
   "id": "761af278",
   "metadata": {},
   "outputs": [
    {
     "data": {
      "text/plain": [
       "(1308, 8)"
      ]
     },
     "execution_count": 19,
     "metadata": {},
     "output_type": "execute_result"
    }
   ],
   "source": [
    "df.shape"
   ]
  },
  {
   "cell_type": "markdown",
   "id": "cfe02b1c",
   "metadata": {},
   "source": [
    "**Approx 2% data is lost after removing outliers.**"
   ]
  },
  {
   "cell_type": "code",
   "execution_count": 20,
   "id": "3f656a16",
   "metadata": {},
   "outputs": [
    {
     "data": {
      "image/png": "[encoded data removed]",
      "text/plain": [
       "<Figure size 2400x1600 with 1 Axes>"
      ]
     },
     "metadata": {},
     "output_type": "display_data"
    }
   ],
   "source": [
    "plt.figure(figsize=(24, 16)) #(width,height)\n",
    "df.boxplot()\n",
    "plt.title('Box Plot of Numerical Columns')\n",
    "plt.xlabel('Columns')\n",
    "plt.ylabel('Values')\n",
    "plt.show()"
   ]
  },
  {
   "cell_type": "markdown",
   "id": "66831a4c",
   "metadata": {},
   "source": [
    "**Outliers are successfully removed.**"
   ]
  },
  {
   "cell_type": "markdown",
   "id": "6781b28b",
   "metadata": {},
   "source": [
    "### There is no need of Feature encoding because all variables are in numerical."
   ]
  },
  {
   "cell_type": "markdown",
   "id": "a8c33d71",
   "metadata": {},
   "source": [
    "# Checking Distribution of Data"
   ]
  },
  {
   "cell_type": "code",
   "execution_count": 21,
   "id": "a12e72fc",
   "metadata": {},
   "outputs": [
    {
     "data": {
      "text/plain": [
       "(1308, 8)"
      ]
     },
     "execution_count": 21,
     "metadata": {},
     "output_type": "execute_result"
    }
   ],
   "source": [
    "df.shape"
   ]
  },
  {
   "cell_type": "code",
   "execution_count": 22,
   "id": "71fda2bf",
   "metadata": {},
   "outputs": [
    {
     "name": "stdout",
     "output_type": "stream",
     "text": [
      "Number of bins according to Sturges' Rule: 11\n"
     ]
    }
   ],
   "source": [
    "# Select appropriate bin size using sturges_rule\n",
    "\n",
    "import math\n",
    "\n",
    "def sturges_rule(num_data_points):\n",
    "    k = 1 + math.log2(num_data_points)\n",
    "    return int(k)\n",
    "\n",
    "# Example usage\n",
    "num_data_points = 1308\n",
    "bins = sturges_rule(num_data_points)\n",
    "print(\"Number of bins according to Sturges' Rule:\", bins)"
   ]
  },
  {
   "cell_type": "code",
   "execution_count": 23,
   "id": "7b39b2f8",
   "metadata": {
    "scrolled": false
   },
   "outputs": [
    {
     "data": {
      "image/png": "[encoded data removed]",
      "text/plain": [
       "<Figure size 600x400 with 1 Axes>"
      ]
     },
     "metadata": {},
     "output_type": "display_data"
    },
    {
     "data": {
      "image/png": "[encoded data removed]",
      "text/plain": [
       "<Figure size 600x400 with 1 Axes>"
      ]
     },
     "metadata": {},
     "output_type": "display_data"
    },
    {
     "data": {
      "image/png": "[encoded data removed]",
      "text/plain": [
       "<Figure size 600x400 with 1 Axes>"
      ]
     },
     "metadata": {},
     "output_type": "display_data"
    },
    {
     "data": {
      "image/png": "[encoded data removed]",
      "text/plain": [
       "<Figure size 600x400 with 1 Axes>"
      ]
     },
     "metadata": {},
     "output_type": "display_data"
    },
    {
     "data": {
      "image/png": "[encoded data removed]",
      "text/plain": [
       "<Figure size 600x400 with 1 Axes>"
      ]
     },
     "metadata": {},
     "output_type": "display_data"
    }
   ],
   "source": [
    "# check distribution of all continuous variables\n",
    "continuous_vars = df.select_dtypes(include=['float64', 'int64']).columns\n",
    "\n",
    "# Exclude binary variables from the list\n",
    "binary_vars = [var for var in continuous_vars if df[var].nunique() == 2]\n",
    "\n",
    "# Exclude binary variables from the continuous variables\n",
    "continuous_vars = [var for var in continuous_vars if var not in binary_vars]\n",
    "\n",
    "# Plot the distribution of each continuous variable\n",
    "for var in continuous_vars:\n",
    "    plt.figure(figsize=(6, 4))\n",
    "    sns.histplot(data=df, x=var, bins=11, kde=True)\n",
    "    plt.xlabel(var)\n",
    "    plt.ylabel('Frequency')\n",
    "    plt.title(f'Distribution of {var}')\n",
    "    plt.show()"
   ]
  },
  {
   "cell_type": "code",
   "execution_count": 24,
   "id": "57e92992",
   "metadata": {},
   "outputs": [
    {
     "data": {
      "text/plain": [
       "age         0.050421\n",
       "bmi         0.191361\n",
       "children    0.737050\n",
       "region     -0.024001\n",
       "charges     1.436653\n",
       "dtype: float64"
      ]
     },
     "execution_count": 24,
     "metadata": {},
     "output_type": "execute_result"
    }
   ],
   "source": [
    "# check skewness of all continuous variables\n",
    "df[continuous_vars].skew()"
   ]
  },
  {
   "cell_type": "markdown",
   "id": "1afac46e",
   "metadata": {},
   "source": [
    "**Variables that are Approximately Symmetric (skewness between -0.5 and 0.5)**\n",
    "\n",
    "age\n",
    "\n",
    "bmi\n",
    "\n",
    "region\n",
    "\n",
    "**Variables that are moderate skewed (skewness between 0.5 to 1 or -0.5 to -1)**\n",
    "\n",
    "children\n",
    "\n",
    "**Variables that are highly skewed (skewness greater than 1 or less than -1)**\n",
    "\n",
    "charge"
   ]
  },
  {
   "cell_type": "markdown",
   "id": "cb31e416",
   "metadata": {},
   "source": [
    "**Most of the variables has approximately symmetric or moderate skewness, except charge variable, which is positively skewed. This is reasonable and logical because charges are only high for people who smokes, not for all people. Overall, the data appears to be suitable for further tasks such as feature engineering and model building.**"
   ]
  },
  {
   "cell_type": "code",
   "execution_count": 25,
   "id": "0ac663c9",
   "metadata": {},
   "outputs": [
    {
     "data": {
      "image/png": "[encoded data removed]",
      "text/plain": [
       "<Figure size 1000x1000 with 2 Axes>"
      ]
     },
     "metadata": {},
     "output_type": "display_data"
    }
   ],
   "source": [
    "# Checking correlation between variables \n",
    "\n",
    "corr_matrix = df.corr()\n",
    "plt.figure(figsize=(10,10)) #(width,height)\n",
    "sns.heatmap(corr_matrix, annot=True, cmap='coolwarm', square=True)\n",
    "plt.title('Correlation Matrix Heatmap')\n",
    "plt.show()"
   ]
  },
  {
   "cell_type": "markdown",
   "id": "1dcf293b",
   "metadata": {},
   "source": [
    "**There is no highly correlated pair of variable to drop.**"
   ]
  },
  {
   "cell_type": "markdown",
   "id": "30498d97",
   "metadata": {},
   "source": [
    "# Diving data into train and test set"
   ]
  },
  {
   "cell_type": "code",
   "execution_count": 26,
   "id": "9a12227b",
   "metadata": {},
   "outputs": [],
   "source": [
    "x = df.drop(\"insuranceclaim\",axis=1)\n",
    "y = df['insuranceclaim']"
   ]
  },
  {
   "cell_type": "code",
   "execution_count": 27,
   "id": "e5f01649",
   "metadata": {},
   "outputs": [],
   "source": [
    "from sklearn.model_selection import train_test_split\n",
    "\n",
    "X_train, X_test, y_train, y_test = train_test_split(x, y, test_size=0.3, random_state=42)"
   ]
  },
  {
   "cell_type": "code",
   "execution_count": 28,
   "id": "ef4fb705",
   "metadata": {},
   "outputs": [
    {
     "data": {
      "text/plain": [
       "((915, 7), (915,))"
      ]
     },
     "execution_count": 28,
     "metadata": {},
     "output_type": "execute_result"
    }
   ],
   "source": [
    "X_train.shape, y_train.shape"
   ]
  },
  {
   "cell_type": "code",
   "execution_count": 29,
   "id": "0c834692",
   "metadata": {},
   "outputs": [
    {
     "data": {
      "text/plain": [
       "((393, 7), (393,))"
      ]
     },
     "execution_count": 29,
     "metadata": {},
     "output_type": "execute_result"
    }
   ],
   "source": [
    "X_test.shape, y_test.shape"
   ]
  },
  {
   "cell_type": "markdown",
   "id": "837469c1",
   "metadata": {},
   "source": [
    "# Feature Scaling"
   ]
  },
  {
   "cell_type": "code",
   "execution_count": 30,
   "id": "0a1db457",
   "metadata": {},
   "outputs": [
    {
     "data": {
      "text/html": [
       "<div>\n",
       "<style scoped>\n",
       "    .dataframe tbody tr th:only-of-type {\n",
       "        vertical-align: middle;\n",
       "    }\n",
       "\n",
       "    .dataframe tbody tr th {\n",
       "        vertical-align: top;\n",
       "    }\n",
       "\n",
       "    .dataframe thead th {\n",
       "        text-align: right;\n",
       "    }\n",
       "</style>\n",
       "<table border=\"1\" class=\"dataframe\">\n",
       "  <thead>\n",
       "    <tr style=\"text-align: right;\">\n",
       "      <th></th>\n",
       "      <th>age</th>\n",
       "      <th>sex</th>\n",
       "      <th>bmi</th>\n",
       "      <th>children</th>\n",
       "      <th>smoker</th>\n",
       "      <th>region</th>\n",
       "      <th>charges</th>\n",
       "    </tr>\n",
       "  </thead>\n",
       "  <tbody>\n",
       "    <tr>\n",
       "      <th>1239</th>\n",
       "      <td>25</td>\n",
       "      <td>0</td>\n",
       "      <td>42.13</td>\n",
       "      <td>1</td>\n",
       "      <td>0</td>\n",
       "      <td>2</td>\n",
       "      <td>3238.4357</td>\n",
       "    </tr>\n",
       "    <tr>\n",
       "      <th>1234</th>\n",
       "      <td>45</td>\n",
       "      <td>0</td>\n",
       "      <td>27.83</td>\n",
       "      <td>2</td>\n",
       "      <td>0</td>\n",
       "      <td>2</td>\n",
       "      <td>8515.7587</td>\n",
       "    </tr>\n",
       "    <tr>\n",
       "      <th>542</th>\n",
       "      <td>63</td>\n",
       "      <td>0</td>\n",
       "      <td>36.30</td>\n",
       "      <td>0</td>\n",
       "      <td>0</td>\n",
       "      <td>2</td>\n",
       "      <td>13887.2040</td>\n",
       "    </tr>\n",
       "    <tr>\n",
       "      <th>743</th>\n",
       "      <td>31</td>\n",
       "      <td>0</td>\n",
       "      <td>26.62</td>\n",
       "      <td>0</td>\n",
       "      <td>0</td>\n",
       "      <td>2</td>\n",
       "      <td>3757.8448</td>\n",
       "    </tr>\n",
       "    <tr>\n",
       "      <th>921</th>\n",
       "      <td>62</td>\n",
       "      <td>0</td>\n",
       "      <td>33.20</td>\n",
       "      <td>0</td>\n",
       "      <td>0</td>\n",
       "      <td>3</td>\n",
       "      <td>13462.5200</td>\n",
       "    </tr>\n",
       "  </tbody>\n",
       "</table>\n",
       "</div>"
      ],
      "text/plain": [
       "      age  sex    bmi  children  smoker  region     charges\n",
       "1239   25    0  42.13         1       0       2   3238.4357\n",
       "1234   45    0  27.83         2       0       2   8515.7587\n",
       "542    63    0  36.30         0       0       2  13887.2040\n",
       "743    31    0  26.62         0       0       2   3757.8448\n",
       "921    62    0  33.20         0       0       3  13462.5200"
      ]
     },
     "execution_count": 30,
     "metadata": {},
     "output_type": "execute_result"
    }
   ],
   "source": [
    "X_train.head()"
   ]
  },
  {
   "cell_type": "markdown",
   "id": "3a7c3c49",
   "metadata": {},
   "source": [
    "**Variables needs to be scale:-**\n",
    "\n",
    "**age, bmi, children, region and charges**"
   ]
  },
  {
   "cell_type": "markdown",
   "id": "d9734ce4",
   "metadata": {},
   "source": [
    "**I decide to Min-Max Scle becuase out of 7 variables 2 variables have (0-1) range. Charge variables is not normally distributed and remaining variables have specifice range.**"
   ]
  },
  {
   "cell_type": "code",
   "execution_count": 31,
   "id": "5e5d27d0",
   "metadata": {},
   "outputs": [
    {
     "data": {
      "text/html": [
       "<div>\n",
       "<style scoped>\n",
       "    .dataframe tbody tr th:only-of-type {\n",
       "        vertical-align: middle;\n",
       "    }\n",
       "\n",
       "    .dataframe tbody tr th {\n",
       "        vertical-align: top;\n",
       "    }\n",
       "\n",
       "    .dataframe thead th {\n",
       "        text-align: right;\n",
       "    }\n",
       "</style>\n",
       "<table border=\"1\" class=\"dataframe\">\n",
       "  <thead>\n",
       "    <tr style=\"text-align: right;\">\n",
       "      <th></th>\n",
       "      <th>age</th>\n",
       "      <th>sex</th>\n",
       "      <th>bmi</th>\n",
       "      <th>children</th>\n",
       "      <th>smoker</th>\n",
       "      <th>region</th>\n",
       "      <th>charges</th>\n",
       "    </tr>\n",
       "  </thead>\n",
       "  <tbody>\n",
       "    <tr>\n",
       "      <th>1239</th>\n",
       "      <td>0.152174</td>\n",
       "      <td>0</td>\n",
       "      <td>0.815011</td>\n",
       "      <td>0.25</td>\n",
       "      <td>0</td>\n",
       "      <td>0.666667</td>\n",
       "      <td>0.043680</td>\n",
       "    </tr>\n",
       "    <tr>\n",
       "      <th>1234</th>\n",
       "      <td>0.586957</td>\n",
       "      <td>0</td>\n",
       "      <td>0.369667</td>\n",
       "      <td>0.50</td>\n",
       "      <td>0</td>\n",
       "      <td>0.666667</td>\n",
       "      <td>0.152590</td>\n",
       "    </tr>\n",
       "    <tr>\n",
       "      <th>542</th>\n",
       "      <td>0.978261</td>\n",
       "      <td>0</td>\n",
       "      <td>0.633448</td>\n",
       "      <td>0.00</td>\n",
       "      <td>0</td>\n",
       "      <td>0.666667</td>\n",
       "      <td>0.263443</td>\n",
       "    </tr>\n",
       "    <tr>\n",
       "      <th>743</th>\n",
       "      <td>0.282609</td>\n",
       "      <td>0</td>\n",
       "      <td>0.331984</td>\n",
       "      <td>0.00</td>\n",
       "      <td>0</td>\n",
       "      <td>0.666667</td>\n",
       "      <td>0.054400</td>\n",
       "    </tr>\n",
       "    <tr>\n",
       "      <th>921</th>\n",
       "      <td>0.956522</td>\n",
       "      <td>0</td>\n",
       "      <td>0.536904</td>\n",
       "      <td>0.00</td>\n",
       "      <td>0</td>\n",
       "      <td>1.000000</td>\n",
       "      <td>0.254678</td>\n",
       "    </tr>\n",
       "  </tbody>\n",
       "</table>\n",
       "</div>"
      ],
      "text/plain": [
       "           age  sex       bmi  children  smoker    region   charges\n",
       "1239  0.152174    0  0.815011      0.25       0  0.666667  0.043680\n",
       "1234  0.586957    0  0.369667      0.50       0  0.666667  0.152590\n",
       "542   0.978261    0  0.633448      0.00       0  0.666667  0.263443\n",
       "743   0.282609    0  0.331984      0.00       0  0.666667  0.054400\n",
       "921   0.956522    0  0.536904      0.00       0  1.000000  0.254678"
      ]
     },
     "execution_count": 31,
     "metadata": {},
     "output_type": "execute_result"
    }
   ],
   "source": [
    "#Applying standard scaler on train and test set\n",
    "\n",
    "from sklearn.preprocessing import MinMaxScaler\n",
    "\n",
    "scaler = MinMaxScaler()\n",
    "\n",
    "variables_to_scale = ['age','bmi', 'children', 'region', 'charges']\n",
    "\n",
    "X_train[variables_to_scale] = scaler.fit_transform(X_train[variables_to_scale])\n",
    "\n",
    "X_test[variables_to_scale] = scaler.transform(X_test[variables_to_scale])\n",
    "\n",
    "X_train.head()"
   ]
  },
  {
   "cell_type": "code",
   "execution_count": 32,
   "id": "5a347cd2",
   "metadata": {},
   "outputs": [
    {
     "data": {
      "text/html": [
       "<div>\n",
       "<style scoped>\n",
       "    .dataframe tbody tr th:only-of-type {\n",
       "        vertical-align: middle;\n",
       "    }\n",
       "\n",
       "    .dataframe tbody tr th {\n",
       "        vertical-align: top;\n",
       "    }\n",
       "\n",
       "    .dataframe thead th {\n",
       "        text-align: right;\n",
       "    }\n",
       "</style>\n",
       "<table border=\"1\" class=\"dataframe\">\n",
       "  <thead>\n",
       "    <tr style=\"text-align: right;\">\n",
       "      <th></th>\n",
       "      <th>age</th>\n",
       "      <th>sex</th>\n",
       "      <th>bmi</th>\n",
       "      <th>children</th>\n",
       "      <th>smoker</th>\n",
       "      <th>region</th>\n",
       "      <th>charges</th>\n",
       "    </tr>\n",
       "  </thead>\n",
       "  <tbody>\n",
       "    <tr>\n",
       "      <th>1033</th>\n",
       "      <td>0.000000</td>\n",
       "      <td>1</td>\n",
       "      <td>0.174556</td>\n",
       "      <td>0.00</td>\n",
       "      <td>1</td>\n",
       "      <td>0.000000</td>\n",
       "      <td>0.260567</td>\n",
       "    </tr>\n",
       "    <tr>\n",
       "      <th>1069</th>\n",
       "      <td>0.782609</td>\n",
       "      <td>0</td>\n",
       "      <td>0.496419</td>\n",
       "      <td>0.25</td>\n",
       "      <td>0</td>\n",
       "      <td>0.666667</td>\n",
       "      <td>0.202390</td>\n",
       "    </tr>\n",
       "    <tr>\n",
       "      <th>708</th>\n",
       "      <td>0.282609</td>\n",
       "      <td>0</td>\n",
       "      <td>0.452663</td>\n",
       "      <td>0.75</td>\n",
       "      <td>0</td>\n",
       "      <td>0.000000</td>\n",
       "      <td>0.103008</td>\n",
       "    </tr>\n",
       "    <tr>\n",
       "      <th>749</th>\n",
       "      <td>0.217391</td>\n",
       "      <td>1</td>\n",
       "      <td>0.464497</td>\n",
       "      <td>0.00</td>\n",
       "      <td>0</td>\n",
       "      <td>0.333333</td>\n",
       "      <td>0.040050</td>\n",
       "    </tr>\n",
       "    <tr>\n",
       "      <th>736</th>\n",
       "      <td>0.413043</td>\n",
       "      <td>0</td>\n",
       "      <td>0.698536</td>\n",
       "      <td>0.00</td>\n",
       "      <td>1</td>\n",
       "      <td>0.666667</td>\n",
       "      <td>0.810990</td>\n",
       "    </tr>\n",
       "  </tbody>\n",
       "</table>\n",
       "</div>"
      ],
      "text/plain": [
       "           age  sex       bmi  children  smoker    region   charges\n",
       "1033  0.000000    1  0.174556      0.00       1  0.000000  0.260567\n",
       "1069  0.782609    0  0.496419      0.25       0  0.666667  0.202390\n",
       "708   0.282609    0  0.452663      0.75       0  0.000000  0.103008\n",
       "749   0.217391    1  0.464497      0.00       0  0.333333  0.040050\n",
       "736   0.413043    0  0.698536      0.00       1  0.666667  0.810990"
      ]
     },
     "execution_count": 32,
     "metadata": {},
     "output_type": "execute_result"
    }
   ],
   "source": [
    "X_test.head()"
   ]
  },
  {
   "cell_type": "markdown",
   "id": "dee6e4c9",
   "metadata": {},
   "source": [
    "**Scaling Successfully done**"
   ]
  },
  {
   "cell_type": "markdown",
   "id": "baee9dc0",
   "metadata": {},
   "source": [
    "# Check for the class imbalance"
   ]
  },
  {
   "cell_type": "code",
   "execution_count": 33,
   "id": "7cc5552d",
   "metadata": {},
   "outputs": [
    {
     "data": {
      "text/plain": [
       "1    767\n",
       "0    541\n",
       "Name: insuranceclaim, dtype: int64"
      ]
     },
     "execution_count": 33,
     "metadata": {},
     "output_type": "execute_result"
    }
   ],
   "source": [
    "df['insuranceclaim'].value_counts()"
   ]
  },
  {
   "cell_type": "code",
   "execution_count": 34,
   "id": "4faf8b03",
   "metadata": {},
   "outputs": [
    {
     "data": {
      "text/plain": [
       "1    526\n",
       "0    389\n",
       "Name: insuranceclaim, dtype: int64"
      ]
     },
     "execution_count": 34,
     "metadata": {},
     "output_type": "execute_result"
    }
   ],
   "source": [
    "y_train.value_counts()"
   ]
  },
  {
   "cell_type": "code",
   "execution_count": 35,
   "id": "2b61c925",
   "metadata": {},
   "outputs": [
    {
     "data": {
      "text/plain": [
       "<AxesSubplot:>"
      ]
     },
     "execution_count": 35,
     "metadata": {},
     "output_type": "execute_result"
    },
    {
     "data": {
      "image/png": "[encoded data removed]",
      "text/plain": [
       "<Figure size 640x480 with 1 Axes>"
      ]
     },
     "metadata": {},
     "output_type": "display_data"
    }
   ],
   "source": [
    "y_train.value_counts().plot(kind='bar')"
   ]
  },
  {
   "cell_type": "code",
   "execution_count": 36,
   "id": "dbd1e8d1",
   "metadata": {},
   "outputs": [
    {
     "name": "stdout",
     "output_type": "stream",
     "text": [
      "Imbalance Ratio: 57:43\n"
     ]
    }
   ],
   "source": [
    "#check the imbalance ratio\n",
    "\n",
    "majority_count = 526\n",
    "minority_count = 389\n",
    "\n",
    "majority_ratio = majority_count / (minority_count + majority_count) * 100\n",
    "minority_ratio = minority_count / (minority_count + majority_count) * 100\n",
    "\n",
    "imbalance_ratio_str = f\"{majority_ratio:.0f}:{minority_ratio:.0f}\"\n",
    "print(f\"Imbalance Ratio: {imbalance_ratio_str}\")"
   ]
  },
  {
   "cell_type": "markdown",
   "id": "f8ee0887",
   "metadata": {},
   "source": [
    "**Dataset is almost balance and there is no need to apply class imbalancing techniques.**"
   ]
  },
  {
   "cell_type": "markdown",
   "id": "2490f551",
   "metadata": {},
   "source": [
    "# Feature Selection using Random Forest Feature Importance Method"
   ]
  },
  {
   "cell_type": "code",
   "execution_count": 37,
   "id": "ee363c81",
   "metadata": {},
   "outputs": [
    {
     "data": {
      "text/html": [
       "<div>\n",
       "<style scoped>\n",
       "    .dataframe tbody tr th:only-of-type {\n",
       "        vertical-align: middle;\n",
       "    }\n",
       "\n",
       "    .dataframe tbody tr th {\n",
       "        vertical-align: top;\n",
       "    }\n",
       "\n",
       "    .dataframe thead th {\n",
       "        text-align: right;\n",
       "    }\n",
       "</style>\n",
       "<table border=\"1\" class=\"dataframe\">\n",
       "  <thead>\n",
       "    <tr style=\"text-align: right;\">\n",
       "      <th></th>\n",
       "      <th>Feature</th>\n",
       "      <th>Importance</th>\n",
       "    </tr>\n",
       "  </thead>\n",
       "  <tbody>\n",
       "    <tr>\n",
       "      <th>0</th>\n",
       "      <td>bmi</td>\n",
       "      <td>0.371550</td>\n",
       "    </tr>\n",
       "    <tr>\n",
       "      <th>1</th>\n",
       "      <td>children</td>\n",
       "      <td>0.242133</td>\n",
       "    </tr>\n",
       "    <tr>\n",
       "      <th>2</th>\n",
       "      <td>charges</td>\n",
       "      <td>0.169531</td>\n",
       "    </tr>\n",
       "    <tr>\n",
       "      <th>3</th>\n",
       "      <td>age</td>\n",
       "      <td>0.097638</td>\n",
       "    </tr>\n",
       "    <tr>\n",
       "      <th>4</th>\n",
       "      <td>smoker</td>\n",
       "      <td>0.082022</td>\n",
       "    </tr>\n",
       "    <tr>\n",
       "      <th>5</th>\n",
       "      <td>region</td>\n",
       "      <td>0.027163</td>\n",
       "    </tr>\n",
       "    <tr>\n",
       "      <th>6</th>\n",
       "      <td>sex</td>\n",
       "      <td>0.009963</td>\n",
       "    </tr>\n",
       "  </tbody>\n",
       "</table>\n",
       "</div>"
      ],
      "text/plain": [
       "    Feature  Importance\n",
       "0       bmi    0.371550\n",
       "1  children    0.242133\n",
       "2   charges    0.169531\n",
       "3       age    0.097638\n",
       "4    smoker    0.082022\n",
       "5    region    0.027163\n",
       "6       sex    0.009963"
      ]
     },
     "execution_count": 37,
     "metadata": {},
     "output_type": "execute_result"
    }
   ],
   "source": [
    "#building random forest model for feature selection \n",
    "\n",
    "from sklearn.ensemble import RandomForestClassifier\n",
    "\n",
    "rf_classifier = RandomForestClassifier(n_jobs=-1, random_state=42)\n",
    "\n",
    "rf_classifier.fit(X_train, y_train)\n",
    "\n",
    "importances = rf_classifier.feature_importances_\n",
    "\n",
    "feature_importance_df = pd.DataFrame({'Feature': X_train.columns, 'Importance': importances})\n",
    "\n",
    "feature_importance_df = feature_importance_df.sort_values(by='Importance', ascending=False).reset_index(drop=True)\n",
    "\n",
    "feature_importance_df"
   ]
  },
  {
   "cell_type": "code",
   "execution_count": 38,
   "id": "72921e9e",
   "metadata": {},
   "outputs": [
    {
     "data": {
      "image/png": "[encoded data removed]",
      "text/plain": [
       "<Figure size 640x480 with 1 Axes>"
      ]
     },
     "metadata": {},
     "output_type": "display_data"
    }
   ],
   "source": [
    "#check optimal number of features\n",
    "\n",
    "sorted_indices = np.argsort(importances)[::-1]\n",
    "cumulative_importance = np.cumsum(importances[sorted_indices])\n",
    "\n",
    "plt.plot(range(1, len(importances) + 1), cumulative_importance, 'b-')\n",
    "plt.xlabel('Number of Features')\n",
    "plt.ylabel('Cumulative Importance')\n",
    "plt.title('Cumulative Importance of Features')\n",
    "plt.grid(True)\n",
    "plt.show()"
   ]
  },
  {
   "cell_type": "markdown",
   "id": "a6aea838",
   "metadata": {},
   "source": [
    "**All features are important for model building.**"
   ]
  },
  {
   "cell_type": "markdown",
   "id": "42bd2709",
   "metadata": {},
   "source": [
    "# Check multi-colinearity between variables to avoid model from overfitting."
   ]
  },
  {
   "cell_type": "code",
   "execution_count": 39,
   "id": "acb73be4",
   "metadata": {},
   "outputs": [
    {
     "data": {
      "text/html": [
       "<div>\n",
       "<style scoped>\n",
       "    .dataframe tbody tr th:only-of-type {\n",
       "        vertical-align: middle;\n",
       "    }\n",
       "\n",
       "    .dataframe tbody tr th {\n",
       "        vertical-align: top;\n",
       "    }\n",
       "\n",
       "    .dataframe thead th {\n",
       "        text-align: right;\n",
       "    }\n",
       "</style>\n",
       "<table border=\"1\" class=\"dataframe\">\n",
       "  <thead>\n",
       "    <tr style=\"text-align: right;\">\n",
       "      <th></th>\n",
       "      <th>Variable</th>\n",
       "      <th>VIF</th>\n",
       "    </tr>\n",
       "  </thead>\n",
       "  <tbody>\n",
       "    <tr>\n",
       "      <th>6</th>\n",
       "      <td>charges</td>\n",
       "      <td>7.672881</td>\n",
       "    </tr>\n",
       "    <tr>\n",
       "      <th>2</th>\n",
       "      <td>bmi</td>\n",
       "      <td>4.791173</td>\n",
       "    </tr>\n",
       "    <tr>\n",
       "      <th>4</th>\n",
       "      <td>smoker</td>\n",
       "      <td>4.087760</td>\n",
       "    </tr>\n",
       "    <tr>\n",
       "      <th>0</th>\n",
       "      <td>age</td>\n",
       "      <td>3.861373</td>\n",
       "    </tr>\n",
       "    <tr>\n",
       "      <th>5</th>\n",
       "      <td>region</td>\n",
       "      <td>2.575473</td>\n",
       "    </tr>\n",
       "    <tr>\n",
       "      <th>1</th>\n",
       "      <td>sex</td>\n",
       "      <td>1.952012</td>\n",
       "    </tr>\n",
       "    <tr>\n",
       "      <th>3</th>\n",
       "      <td>children</td>\n",
       "      <td>1.767349</td>\n",
       "    </tr>\n",
       "  </tbody>\n",
       "</table>\n",
       "</div>"
      ],
      "text/plain": [
       "   Variable       VIF\n",
       "6   charges  7.672881\n",
       "2       bmi  4.791173\n",
       "4    smoker  4.087760\n",
       "0       age  3.861373\n",
       "5    region  2.575473\n",
       "1       sex  1.952012\n",
       "3  children  1.767349"
      ]
     },
     "execution_count": 39,
     "metadata": {},
     "output_type": "execute_result"
    }
   ],
   "source": [
    "#checking multicolinearity of X_train\n",
    "\n",
    "from statsmodels.stats.outliers_influence import variance_inflation_factor\n",
    "\n",
    "vif = pd.DataFrame()\n",
    "vif[\"Variable\"] = X_train.columns\n",
    "vif[\"VIF\"] = [variance_inflation_factor(X_train.values, i) for i in range(X_train.shape[1])]\n",
    "vif = vif.sort_values(by='VIF', ascending=False)\n",
    "\n",
    "vif"
   ]
  },
  {
   "cell_type": "markdown",
   "id": "48f987c3",
   "metadata": {},
   "source": [
    "**Only Charges variable has VIF value more than 5 but I decide not to drop that variable because it is important variable for model building.**"
   ]
  },
  {
   "cell_type": "markdown",
   "id": "8d0f94d8",
   "metadata": {},
   "source": [
    "# Model Building"
   ]
  },
  {
   "cell_type": "code",
   "execution_count": 40,
   "id": "7e44d338",
   "metadata": {},
   "outputs": [],
   "source": [
    "#importing algorithms, metrics and time\n",
    "\n",
    "from sklearn.linear_model import LogisticRegression\n",
    "from sklearn.tree import DecisionTreeClassifier\n",
    "from sklearn.svm import SVC\n",
    "from sklearn.neighbors import KNeighborsClassifier\n",
    "from sklearn.naive_bayes import GaussianNB\n",
    "from sklearn.ensemble import AdaBoostClassifier, GradientBoostingClassifier, RandomForestClassifier\n",
    "from xgboost import XGBClassifier\n",
    "import time\n",
    "from sklearn.metrics import classification_report, accuracy_score, precision_score, recall_score, f1_score, balanced_accuracy_score"
   ]
  },
  {
   "cell_type": "code",
   "execution_count": 41,
   "id": "1d1340e6",
   "metadata": {},
   "outputs": [
    {
     "name": "stderr",
     "output_type": "stream",
     "text": [
      "C:\\Users\\HP\\Anaconda3\\lib\\site-packages\\sklearn\\neighbors\\_classification.py:228: FutureWarning: Unlike other reduction functions (e.g. `skew`, `kurtosis`), the default behavior of `mode` typically preserves the axis it acts along. In SciPy 1.11.0, this behavior will change: the default value of `keepdims` will become False, the `axis` over which the statistic is taken will be eliminated, and the value None will no longer be accepted. Set `keepdims` to True or False to avoid this warning.\n",
      "  mode, _ = stats.mode(_y[neigh_ind, k], axis=1)\n"
     ]
    },
    {
     "data": {
      "text/html": [
       "<div>\n",
       "<style scoped>\n",
       "    .dataframe tbody tr th:only-of-type {\n",
       "        vertical-align: middle;\n",
       "    }\n",
       "\n",
       "    .dataframe tbody tr th {\n",
       "        vertical-align: top;\n",
       "    }\n",
       "\n",
       "    .dataframe thead th {\n",
       "        text-align: right;\n",
       "    }\n",
       "</style>\n",
       "<table border=\"1\" class=\"dataframe\">\n",
       "  <thead>\n",
       "    <tr style=\"text-align: right;\">\n",
       "      <th></th>\n",
       "      <th>Algorithm</th>\n",
       "      <th>Accuracy</th>\n",
       "      <th>Precision</th>\n",
       "      <th>Recall</th>\n",
       "      <th>F1-score</th>\n",
       "      <th>Balanced Accuracy</th>\n",
       "      <th>Building Time (s)</th>\n",
       "    </tr>\n",
       "  </thead>\n",
       "  <tbody>\n",
       "    <tr>\n",
       "      <th>0</th>\n",
       "      <td>LogisticRegression</td>\n",
       "      <td>0.886339</td>\n",
       "      <td>0.892193</td>\n",
       "      <td>0.912548</td>\n",
       "      <td>0.902256</td>\n",
       "      <td>0.881724</td>\n",
       "      <td>3.058618</td>\n",
       "    </tr>\n",
       "    <tr>\n",
       "      <th>1</th>\n",
       "      <td>DecisionTreeClassifier</td>\n",
       "      <td>1.000000</td>\n",
       "      <td>1.000000</td>\n",
       "      <td>1.000000</td>\n",
       "      <td>1.000000</td>\n",
       "      <td>1.000000</td>\n",
       "      <td>0.015577</td>\n",
       "    </tr>\n",
       "    <tr>\n",
       "      <th>2</th>\n",
       "      <td>KNeighborsClassifier</td>\n",
       "      <td>0.900546</td>\n",
       "      <td>0.915870</td>\n",
       "      <td>0.910646</td>\n",
       "      <td>0.913251</td>\n",
       "      <td>0.898768</td>\n",
       "      <td>0.046860</td>\n",
       "    </tr>\n",
       "    <tr>\n",
       "      <th>3</th>\n",
       "      <td>GaussianNB</td>\n",
       "      <td>0.722404</td>\n",
       "      <td>0.890805</td>\n",
       "      <td>0.589354</td>\n",
       "      <td>0.709382</td>\n",
       "      <td>0.745834</td>\n",
       "      <td>0.015626</td>\n",
       "    </tr>\n",
       "    <tr>\n",
       "      <th>4</th>\n",
       "      <td>SVC</td>\n",
       "      <td>0.900546</td>\n",
       "      <td>0.937626</td>\n",
       "      <td>0.885932</td>\n",
       "      <td>0.911046</td>\n",
       "      <td>0.903120</td>\n",
       "      <td>0.062481</td>\n",
       "    </tr>\n",
       "    <tr>\n",
       "      <th>5</th>\n",
       "      <td>AdaBoostClassifier</td>\n",
       "      <td>0.881967</td>\n",
       "      <td>0.898855</td>\n",
       "      <td>0.895437</td>\n",
       "      <td>0.897143</td>\n",
       "      <td>0.879595</td>\n",
       "      <td>0.093730</td>\n",
       "    </tr>\n",
       "    <tr>\n",
       "      <th>6</th>\n",
       "      <td>GradientBoostingClassifier</td>\n",
       "      <td>0.992350</td>\n",
       "      <td>0.994286</td>\n",
       "      <td>0.992395</td>\n",
       "      <td>0.993340</td>\n",
       "      <td>0.992342</td>\n",
       "      <td>0.124175</td>\n",
       "    </tr>\n",
       "    <tr>\n",
       "      <th>7</th>\n",
       "      <td>RandomForestClassifier</td>\n",
       "      <td>1.000000</td>\n",
       "      <td>1.000000</td>\n",
       "      <td>1.000000</td>\n",
       "      <td>1.000000</td>\n",
       "      <td>1.000000</td>\n",
       "      <td>0.175645</td>\n",
       "    </tr>\n",
       "    <tr>\n",
       "      <th>8</th>\n",
       "      <td>XGBClassifier</td>\n",
       "      <td>1.000000</td>\n",
       "      <td>1.000000</td>\n",
       "      <td>1.000000</td>\n",
       "      <td>1.000000</td>\n",
       "      <td>1.000000</td>\n",
       "      <td>0.102161</td>\n",
       "    </tr>\n",
       "  </tbody>\n",
       "</table>\n",
       "</div>"
      ],
      "text/plain": [
       "                    Algorithm  Accuracy  Precision    Recall  F1-score  \\\n",
       "0          LogisticRegression  0.886339   0.892193  0.912548  0.902256   \n",
       "1      DecisionTreeClassifier  1.000000   1.000000  1.000000  1.000000   \n",
       "2        KNeighborsClassifier  0.900546   0.915870  0.910646  0.913251   \n",
       "3                  GaussianNB  0.722404   0.890805  0.589354  0.709382   \n",
       "4                         SVC  0.900546   0.937626  0.885932  0.911046   \n",
       "5          AdaBoostClassifier  0.881967   0.898855  0.895437  0.897143   \n",
       "6  GradientBoostingClassifier  0.992350   0.994286  0.992395  0.993340   \n",
       "7      RandomForestClassifier  1.000000   1.000000  1.000000  1.000000   \n",
       "8               XGBClassifier  1.000000   1.000000  1.000000  1.000000   \n",
       "\n",
       "   Balanced Accuracy  Building Time (s)  \n",
       "0           0.881724           3.058618  \n",
       "1           1.000000           0.015577  \n",
       "2           0.898768           0.046860  \n",
       "3           0.745834           0.015626  \n",
       "4           0.903120           0.062481  \n",
       "5           0.879595           0.093730  \n",
       "6           0.992342           0.124175  \n",
       "7           1.000000           0.175645  \n",
       "8           1.000000           0.102161  "
      ]
     },
     "execution_count": 41,
     "metadata": {},
     "output_type": "execute_result"
    }
   ],
   "source": [
    "# model building of multiple algorithms and check their evaulation metrics on training data along with their building time\n",
    "\n",
    "algorithms = [\n",
    "    LogisticRegression(n_jobs=-1, random_state=42),\n",
    "    DecisionTreeClassifier(random_state=42),\n",
    "    KNeighborsClassifier(n_jobs=-1),\n",
    "    GaussianNB(),\n",
    "    SVC(random_state=42),\n",
    "    AdaBoostClassifier(random_state=42),\n",
    "    GradientBoostingClassifier(random_state=42),\n",
    "    RandomForestClassifier(n_jobs=-1, random_state=42),\n",
    "    XGBClassifier(n_jobs=-1, random_state=42)\n",
    "]\n",
    "\n",
    "# Initialize the results dictionary for training data\n",
    "results_train = {\n",
    "    'Algorithm': [],\n",
    "    'Accuracy': [],\n",
    "    'Precision': [],\n",
    "    'Recall': [],\n",
    "    'F1-score': [],\n",
    "    'Balanced Accuracy': [],\n",
    "    'Building Time (s)': []\n",
    "}\n",
    "\n",
    "# Apply the algorithms and calculate performance metrics for training data\n",
    "for algorithm in algorithms:\n",
    "    start_time = time.time()  # Start timer\n",
    "\n",
    "    algorithm_name = type(algorithm).__name__\n",
    "    algorithm.fit(X_train, y_train)\n",
    "    y_train_pred = algorithm.predict(X_train)\n",
    "\n",
    "    accuracy = accuracy_score(y_train, y_train_pred)\n",
    "    precision = precision_score(y_train, y_train_pred)\n",
    "    recall = recall_score(y_train, y_train_pred)\n",
    "    f1 = f1_score(y_train, y_train_pred)\n",
    "    balanced_accuracy = balanced_accuracy_score(y_train, y_train_pred)\n",
    "\n",
    "    end_time = time.time()  # End timer\n",
    "    building_time = end_time - start_time\n",
    "\n",
    "    results_train['Algorithm'].append(algorithm_name)\n",
    "    results_train['Accuracy'].append(accuracy)\n",
    "    results_train['Precision'].append(precision)\n",
    "    results_train['Recall'].append(recall)\n",
    "    results_train['F1-score'].append(f1)\n",
    "    results_train['Balanced Accuracy'].append(balanced_accuracy)\n",
    "    results_train['Building Time (s)'].append(building_time)\n",
    "\n",
    "# Create a dataframe for the training data results\n",
    "df_train = pd.DataFrame(results_train)\n",
    "df_train"
   ]
  },
  {
   "cell_type": "code",
   "execution_count": 42,
   "id": "1185b6d3",
   "metadata": {},
   "outputs": [
    {
     "name": "stderr",
     "output_type": "stream",
     "text": [
      "C:\\Users\\HP\\Anaconda3\\lib\\site-packages\\sklearn\\neighbors\\_classification.py:228: FutureWarning: Unlike other reduction functions (e.g. `skew`, `kurtosis`), the default behavior of `mode` typically preserves the axis it acts along. In SciPy 1.11.0, this behavior will change: the default value of `keepdims` will become False, the `axis` over which the statistic is taken will be eliminated, and the value None will no longer be accepted. Set `keepdims` to True or False to avoid this warning.\n",
      "  mode, _ = stats.mode(_y[neigh_ind, k], axis=1)\n"
     ]
    },
    {
     "data": {
      "text/html": [
       "<div>\n",
       "<style scoped>\n",
       "    .dataframe tbody tr th:only-of-type {\n",
       "        vertical-align: middle;\n",
       "    }\n",
       "\n",
       "    .dataframe tbody tr th {\n",
       "        vertical-align: top;\n",
       "    }\n",
       "\n",
       "    .dataframe thead th {\n",
       "        text-align: right;\n",
       "    }\n",
       "</style>\n",
       "<table border=\"1\" class=\"dataframe\">\n",
       "  <thead>\n",
       "    <tr style=\"text-align: right;\">\n",
       "      <th></th>\n",
       "      <th>Algorithm</th>\n",
       "      <th>Accuracy</th>\n",
       "      <th>Precision</th>\n",
       "      <th>Recall</th>\n",
       "      <th>F1-score</th>\n",
       "      <th>Balanced Accuracy</th>\n",
       "    </tr>\n",
       "  </thead>\n",
       "  <tbody>\n",
       "    <tr>\n",
       "      <th>0</th>\n",
       "      <td>LogisticRegression</td>\n",
       "      <td>0.885496</td>\n",
       "      <td>0.908333</td>\n",
       "      <td>0.904564</td>\n",
       "      <td>0.906445</td>\n",
       "      <td>0.879914</td>\n",
       "    </tr>\n",
       "    <tr>\n",
       "      <th>1</th>\n",
       "      <td>DecisionTreeClassifier</td>\n",
       "      <td>0.964377</td>\n",
       "      <td>0.967078</td>\n",
       "      <td>0.975104</td>\n",
       "      <td>0.971074</td>\n",
       "      <td>0.961236</td>\n",
       "    </tr>\n",
       "    <tr>\n",
       "      <th>2</th>\n",
       "      <td>KNeighborsClassifier</td>\n",
       "      <td>0.862595</td>\n",
       "      <td>0.901288</td>\n",
       "      <td>0.871369</td>\n",
       "      <td>0.886076</td>\n",
       "      <td>0.860027</td>\n",
       "    </tr>\n",
       "    <tr>\n",
       "      <th>3</th>\n",
       "      <td>GaussianNB</td>\n",
       "      <td>0.727735</td>\n",
       "      <td>0.935065</td>\n",
       "      <td>0.597510</td>\n",
       "      <td>0.729114</td>\n",
       "      <td>0.765860</td>\n",
       "    </tr>\n",
       "    <tr>\n",
       "      <th>4</th>\n",
       "      <td>SVC</td>\n",
       "      <td>0.885496</td>\n",
       "      <td>0.929825</td>\n",
       "      <td>0.879668</td>\n",
       "      <td>0.904051</td>\n",
       "      <td>0.887202</td>\n",
       "    </tr>\n",
       "    <tr>\n",
       "      <th>5</th>\n",
       "      <td>AdaBoostClassifier</td>\n",
       "      <td>0.842239</td>\n",
       "      <td>0.874477</td>\n",
       "      <td>0.867220</td>\n",
       "      <td>0.870833</td>\n",
       "      <td>0.834926</td>\n",
       "    </tr>\n",
       "    <tr>\n",
       "      <th>6</th>\n",
       "      <td>GradientBoostingClassifier</td>\n",
       "      <td>0.977099</td>\n",
       "      <td>1.000000</td>\n",
       "      <td>0.962656</td>\n",
       "      <td>0.980973</td>\n",
       "      <td>0.981328</td>\n",
       "    </tr>\n",
       "    <tr>\n",
       "      <th>7</th>\n",
       "      <td>RandomForestClassifier</td>\n",
       "      <td>0.964377</td>\n",
       "      <td>0.995633</td>\n",
       "      <td>0.946058</td>\n",
       "      <td>0.970213</td>\n",
       "      <td>0.969740</td>\n",
       "    </tr>\n",
       "    <tr>\n",
       "      <th>8</th>\n",
       "      <td>XGBClassifier</td>\n",
       "      <td>0.984733</td>\n",
       "      <td>0.995781</td>\n",
       "      <td>0.979253</td>\n",
       "      <td>0.987448</td>\n",
       "      <td>0.986337</td>\n",
       "    </tr>\n",
       "  </tbody>\n",
       "</table>\n",
       "</div>"
      ],
      "text/plain": [
       "                    Algorithm  Accuracy  Precision    Recall  F1-score  \\\n",
       "0          LogisticRegression  0.885496   0.908333  0.904564  0.906445   \n",
       "1      DecisionTreeClassifier  0.964377   0.967078  0.975104  0.971074   \n",
       "2        KNeighborsClassifier  0.862595   0.901288  0.871369  0.886076   \n",
       "3                  GaussianNB  0.727735   0.935065  0.597510  0.729114   \n",
       "4                         SVC  0.885496   0.929825  0.879668  0.904051   \n",
       "5          AdaBoostClassifier  0.842239   0.874477  0.867220  0.870833   \n",
       "6  GradientBoostingClassifier  0.977099   1.000000  0.962656  0.980973   \n",
       "7      RandomForestClassifier  0.964377   0.995633  0.946058  0.970213   \n",
       "8               XGBClassifier  0.984733   0.995781  0.979253  0.987448   \n",
       "\n",
       "   Balanced Accuracy  \n",
       "0           0.879914  \n",
       "1           0.961236  \n",
       "2           0.860027  \n",
       "3           0.765860  \n",
       "4           0.887202  \n",
       "5           0.834926  \n",
       "6           0.981328  \n",
       "7           0.969740  \n",
       "8           0.986337  "
      ]
     },
     "execution_count": 42,
     "metadata": {},
     "output_type": "execute_result"
    }
   ],
   "source": [
    "#check evaulation metrics on test data\n",
    "\n",
    "results_test = {\n",
    "    'Algorithm': [],\n",
    "    'Accuracy': [],\n",
    "    'Precision': [],\n",
    "    'Recall': [],\n",
    "    'F1-score': [],\n",
    "    'Balanced Accuracy': []\n",
    "}\n",
    "\n",
    "# Apply the algorithms and calculate performance metrics for test data\n",
    "for algorithm in algorithms:\n",
    "    algorithm_name = type(algorithm).__name__\n",
    "    y_test_pred = algorithm.predict(X_test)\n",
    "\n",
    "    accuracy = accuracy_score(y_test, y_test_pred)\n",
    "    precision = precision_score(y_test, y_test_pred)\n",
    "    recall = recall_score(y_test, y_test_pred)\n",
    "    f1 = f1_score(y_test, y_test_pred)\n",
    "    balanced_accuracy = balanced_accuracy_score(y_test, y_test_pred)\n",
    "\n",
    "    results_test['Algorithm'].append(algorithm_name)\n",
    "    results_test['Balanced Accuracy'].append(balanced_accuracy)\n",
    "    results_test['Accuracy'].append(accuracy)\n",
    "    results_test['Precision'].append(precision)\n",
    "    results_test['Recall'].append(recall)\n",
    "    results_test['F1-score'].append(f1)\n",
    "    \n",
    "\n",
    "# Create a dataframe for the test data results\n",
    "df_test = pd.DataFrame(results_test)\n",
    "df_test"
   ]
  },
  {
   "cell_type": "markdown",
   "id": "aa8a2472",
   "metadata": {},
   "source": [
    "**Decision Tree, Random Forest and XG Bosst overfits. Gradient Boost perform better among all and do not overfits, So, I decide to choose as a final model and work more on gradient boost to increase the performance of model.**"
   ]
  },
  {
   "cell_type": "code",
   "execution_count": 43,
   "id": "5043ad90",
   "metadata": {},
   "outputs": [
    {
     "data": {
      "text/plain": [
       "GradientBoostingClassifier(random_state=42)"
      ]
     },
     "execution_count": 43,
     "metadata": {},
     "output_type": "execute_result"
    }
   ],
   "source": [
    "# Create the Gradient Boosting Classifier model seprately\n",
    "\n",
    "gradient_boost_model = GradientBoostingClassifier(random_state=42)\n",
    "gradient_boost_model = gradient_boost_model.fit(X_train, y_train)\n",
    "gradient_boost_model"
   ]
  },
  {
   "cell_type": "code",
   "execution_count": 44,
   "id": "9814573c",
   "metadata": {},
   "outputs": [
    {
     "name": "stdout",
     "output_type": "stream",
     "text": [
      "Classification Report - Training Data:\n",
      "              precision    recall  f1-score   support\n",
      "\n",
      "           0       0.99      0.99      0.99       389\n",
      "           1       0.99      0.99      0.99       526\n",
      "\n",
      "    accuracy                           0.99       915\n",
      "   macro avg       0.99      0.99      0.99       915\n",
      "weighted avg       0.99      0.99      0.99       915\n",
      "\n",
      "Accuracy: 0.99\n",
      "Precision: 0.99\n",
      "Recall: 0.99\n",
      "F1-score: 0.99\n",
      "Balanced Accuracy: 0.99\n"
     ]
    }
   ],
   "source": [
    "#evaulate performance of model on trainning data\n",
    "\n",
    "y_pred_train = gradient_boost_model.predict(X_train) >= 0.5\n",
    "\n",
    "classification_train = classification_report(y_train, y_pred_train)\n",
    "accuracy_train = accuracy_score(y_train, y_pred_train)\n",
    "precision_train = precision_score(y_train, y_pred_train)\n",
    "recall_train = recall_score(y_train, y_pred_train)\n",
    "f1_score_train = f1_score(y_train, y_pred_train)\n",
    "balanced_accuracy_train = balanced_accuracy_score(y_train, y_pred_train)\n",
    "\n",
    "print(\"Classification Report - Training Data:\")\n",
    "print(classification_train)\n",
    "print(\"Accuracy: {:.2f}\".format(accuracy_train))\n",
    "print(\"Precision: {:.2f}\".format(precision_train))\n",
    "print(\"Recall: {:.2f}\".format(recall_train))\n",
    "print(\"F1-score: {:.2f}\".format(f1_score_train))\n",
    "print(\"Balanced Accuracy: {:.2f}\".format(balanced_accuracy_train))"
   ]
  },
  {
   "cell_type": "code",
   "execution_count": 45,
   "id": "dfe77866",
   "metadata": {},
   "outputs": [
    {
     "name": "stdout",
     "output_type": "stream",
     "text": [
      "Classification Report - Test Data:\n",
      "              precision    recall  f1-score   support\n",
      "\n",
      "           0       0.94      1.00      0.97       152\n",
      "           1       1.00      0.96      0.98       241\n",
      "\n",
      "    accuracy                           0.98       393\n",
      "   macro avg       0.97      0.98      0.98       393\n",
      "weighted avg       0.98      0.98      0.98       393\n",
      "\n",
      "Accuracy: 0.98\n",
      "Precision: 1.00\n",
      "Recall: 0.96\n",
      "F1-score: 0.98\n",
      "Balanced Accuracy: 0.98\n"
     ]
    }
   ],
   "source": [
    "#evaulate performance of model on test data\n",
    "\n",
    "y_pred_test = gradient_boost_model.predict(X_test) >= 0.5\n",
    "\n",
    "classification_test = classification_report(y_test, y_pred_test)\n",
    "accuracy_test = accuracy_score(y_test, y_pred_test)\n",
    "precision_test = precision_score(y_test, y_pred_test)\n",
    "recall_test = recall_score(y_test, y_pred_test)\n",
    "f1_score_test = f1_score(y_test, y_pred_test)\n",
    "balanced_accuracy_test = balanced_accuracy_score(y_test, y_pred_test)\n",
    "\n",
    "print(\"Classification Report - Test Data:\")\n",
    "print(classification_test)\n",
    "print(\"Accuracy: {:.2f}\".format(accuracy_test))\n",
    "print(\"Precision: {:.2f}\".format(precision_test))\n",
    "print(\"Recall: {:.2f}\".format(recall_test))\n",
    "print(\"F1-score: {:.2f}\".format(f1_score_test))\n",
    "print(\"Balanced Accuracy: {:.2f}\".format(balanced_accuracy_test))"
   ]
  },
  {
   "cell_type": "markdown",
   "id": "e2aa8649",
   "metadata": {},
   "source": [
    "# Hyperparameter Tunning"
   ]
  },
  {
   "cell_type": "code",
   "execution_count": 46,
   "id": "21a6464d",
   "metadata": {},
   "outputs": [],
   "source": [
    "#importing GridSearchCV for hyperparameter tunning and define the parameters\n",
    "\n",
    "from sklearn.model_selection import GridSearchCV\n",
    "\n",
    "param_grid = {\n",
    "    'n_estimators': [50, 100, 150, 200, 250, 300],\n",
    "    'learning_rate': [0.05, 0.1, 0.2],\n",
    "    'max_depth': [3, 5, 7]\n",
    "}"
   ]
  },
  {
   "cell_type": "code",
   "execution_count": 47,
   "id": "e7c554d0",
   "metadata": {},
   "outputs": [
    {
     "name": "stdout",
     "output_type": "stream",
     "text": [
      "Best hyperparameters: {'learning_rate': 0.1, 'max_depth': 7, 'n_estimators': 250}\n",
      "Test accuracy with best model: 0.9923664122137404\n"
     ]
    }
   ],
   "source": [
    "#applying hyperparameter tunning\n",
    "\n",
    "grid_search = GridSearchCV(gradient_boost_model, param_grid, cv=5, n_jobs=-1)\n",
    "\n",
    "grid_search.fit(X_train, y_train)\n",
    "\n",
    "# Get the best parameters and best model from the GridSearchCV\n",
    "best_params = grid_search.best_params_\n",
    "best_model = grid_search.best_estimator_\n",
    "\n",
    "# Now the best_model is trained with the best hyperparameters and can be used for predictions.\n",
    "# For example:\n",
    "y_pred = best_model.predict(X_test)\n",
    "\n",
    "# Evaluate the model's performance\n",
    "accuracy = accuracy_score(y_test, y_pred)\n",
    "print(f\"Best hyperparameters: {best_params}\")\n",
    "print(f\"Test accuracy with best model: {accuracy}\")"
   ]
  },
  {
   "cell_type": "markdown",
   "id": "aee07b38",
   "metadata": {},
   "source": [
    "**Accuracy is increasing after applying hyperparameter tunning. So, I decide to make a seprate model by using these parameters.**"
   ]
  },
  {
   "cell_type": "code",
   "execution_count": 48,
   "id": "982a428d",
   "metadata": {},
   "outputs": [
    {
     "data": {
      "text/plain": [
       "GradientBoostingClassifier(random_state=42)"
      ]
     },
     "execution_count": 48,
     "metadata": {},
     "output_type": "execute_result"
    }
   ],
   "source": [
    "# Create the Gradient Boosting Classifier model seprately\n",
    "\n",
    "gradient_boost_model1 = GradientBoostingClassifier(learning_rate= 0.1, max_depth= 7, n_estimators= 250, random_state=42)\n",
    "gradient_boost_model1 = gradient_boost_model.fit(X_train, y_train)\n",
    "gradient_boost_model1"
   ]
  },
  {
   "cell_type": "markdown",
   "id": "ff7944d6",
   "metadata": {},
   "source": [
    "### Evaulate model on tunned parameters"
   ]
  },
  {
   "cell_type": "code",
   "execution_count": 49,
   "id": "f898fd66",
   "metadata": {},
   "outputs": [
    {
     "data": {
      "text/html": [
       "<div>\n",
       "<style scoped>\n",
       "    .dataframe tbody tr th:only-of-type {\n",
       "        vertical-align: middle;\n",
       "    }\n",
       "\n",
       "    .dataframe tbody tr th {\n",
       "        vertical-align: top;\n",
       "    }\n",
       "\n",
       "    .dataframe thead th {\n",
       "        text-align: right;\n",
       "    }\n",
       "</style>\n",
       "<table border=\"1\" class=\"dataframe\">\n",
       "  <thead>\n",
       "    <tr style=\"text-align: right;\">\n",
       "      <th></th>\n",
       "      <th>Data</th>\n",
       "      <th>Accuracy</th>\n",
       "      <th>Balanced Accuracy</th>\n",
       "      <th>Precision</th>\n",
       "      <th>Recall</th>\n",
       "      <th>F1-score</th>\n",
       "    </tr>\n",
       "  </thead>\n",
       "  <tbody>\n",
       "    <tr>\n",
       "      <th>0</th>\n",
       "      <td>Training</td>\n",
       "      <td>0.992350</td>\n",
       "      <td>0.992342</td>\n",
       "      <td>0.994286</td>\n",
       "      <td>0.992395</td>\n",
       "      <td>0.993340</td>\n",
       "    </tr>\n",
       "    <tr>\n",
       "      <th>1</th>\n",
       "      <td>Test</td>\n",
       "      <td>0.977099</td>\n",
       "      <td>0.981328</td>\n",
       "      <td>1.000000</td>\n",
       "      <td>0.962656</td>\n",
       "      <td>0.980973</td>\n",
       "    </tr>\n",
       "  </tbody>\n",
       "</table>\n",
       "</div>"
      ],
      "text/plain": [
       "       Data  Accuracy  Balanced Accuracy  Precision    Recall  F1-score\n",
       "0  Training  0.992350           0.992342   0.994286  0.992395  0.993340\n",
       "1      Test  0.977099           0.981328   1.000000  0.962656  0.980973"
      ]
     },
     "execution_count": 49,
     "metadata": {},
     "output_type": "execute_result"
    }
   ],
   "source": [
    "# Predictions on training data\n",
    "y_train_pred = gradient_boost_model1.predict(X_train)\n",
    "\n",
    "# Predictions on test data\n",
    "y_test_pred = gradient_boost_model1.predict(X_test)\n",
    "\n",
    "# Create the results dictionary for both training and test data\n",
    "results = {\n",
    "    'Data': ['Training', 'Test'],\n",
    "    'Accuracy': [accuracy_score(y_train, y_train_pred), accuracy_score(y_test, y_test_pred)],\n",
    "    'Balanced Accuracy': [balanced_accuracy_score(y_train, y_train_pred), balanced_accuracy_score(y_test, y_test_pred)],\n",
    "    'Precision': [precision_score(y_train, y_train_pred), precision_score(y_test, y_test_pred)],\n",
    "    'Recall': [recall_score(y_train, y_train_pred), recall_score(y_test, y_test_pred)],\n",
    "    'F1-score': [f1_score(y_train, y_train_pred), f1_score(y_test, y_test_pred)]\n",
    "}\n",
    "\n",
    "\n",
    "df_results = pd.DataFrame(results)\n",
    "df_results"
   ]
  },
  {
   "cell_type": "markdown",
   "id": "58d52bb3",
   "metadata": {},
   "source": [
    "**It appears that the model's accuracy has slightly increased.**"
   ]
  },
  {
   "cell_type": "markdown",
   "id": "73980518",
   "metadata": {},
   "source": [
    "# Finding Optimal Threshold"
   ]
  },
  {
   "cell_type": "code",
   "execution_count": 50,
   "id": "a997a853",
   "metadata": {},
   "outputs": [
    {
     "data": {
      "text/html": [
       "<div>\n",
       "<style scoped>\n",
       "    .dataframe tbody tr th:only-of-type {\n",
       "        vertical-align: middle;\n",
       "    }\n",
       "\n",
       "    .dataframe tbody tr th {\n",
       "        vertical-align: top;\n",
       "    }\n",
       "\n",
       "    .dataframe thead th {\n",
       "        text-align: right;\n",
       "    }\n",
       "</style>\n",
       "<table border=\"1\" class=\"dataframe\">\n",
       "  <thead>\n",
       "    <tr style=\"text-align: right;\">\n",
       "      <th></th>\n",
       "      <th>Probability</th>\n",
       "      <th>Actual_Label</th>\n",
       "      <th>Predicted_Label</th>\n",
       "    </tr>\n",
       "  </thead>\n",
       "  <tbody>\n",
       "    <tr>\n",
       "      <th>713</th>\n",
       "      <td>0.977109</td>\n",
       "      <td>1</td>\n",
       "      <td>1</td>\n",
       "    </tr>\n",
       "    <tr>\n",
       "      <th>681</th>\n",
       "      <td>0.016168</td>\n",
       "      <td>0</td>\n",
       "      <td>0</td>\n",
       "    </tr>\n",
       "    <tr>\n",
       "      <th>393</th>\n",
       "      <td>0.921940</td>\n",
       "      <td>1</td>\n",
       "      <td>1</td>\n",
       "    </tr>\n",
       "    <tr>\n",
       "      <th>1171</th>\n",
       "      <td>0.589437</td>\n",
       "      <td>0</td>\n",
       "      <td>1</td>\n",
       "    </tr>\n",
       "    <tr>\n",
       "      <th>879</th>\n",
       "      <td>0.032555</td>\n",
       "      <td>0</td>\n",
       "      <td>0</td>\n",
       "    </tr>\n",
       "    <tr>\n",
       "      <th>1209</th>\n",
       "      <td>0.948386</td>\n",
       "      <td>1</td>\n",
       "      <td>1</td>\n",
       "    </tr>\n",
       "    <tr>\n",
       "      <th>1135</th>\n",
       "      <td>0.683241</td>\n",
       "      <td>1</td>\n",
       "      <td>1</td>\n",
       "    </tr>\n",
       "    <tr>\n",
       "      <th>480</th>\n",
       "      <td>0.046057</td>\n",
       "      <td>0</td>\n",
       "      <td>0</td>\n",
       "    </tr>\n",
       "    <tr>\n",
       "      <th>636</th>\n",
       "      <td>0.006661</td>\n",
       "      <td>0</td>\n",
       "      <td>0</td>\n",
       "    </tr>\n",
       "    <tr>\n",
       "      <th>763</th>\n",
       "      <td>0.959821</td>\n",
       "      <td>1</td>\n",
       "      <td>1</td>\n",
       "    </tr>\n",
       "  </tbody>\n",
       "</table>\n",
       "</div>"
      ],
      "text/plain": [
       "      Probability  Actual_Label  Predicted_Label\n",
       "713      0.977109             1                1\n",
       "681      0.016168             0                0\n",
       "393      0.921940             1                1\n",
       "1171     0.589437             0                1\n",
       "879      0.032555             0                0\n",
       "1209     0.948386             1                1\n",
       "1135     0.683241             1                1\n",
       "480      0.046057             0                0\n",
       "636      0.006661             0                0\n",
       "763      0.959821             1                1"
      ]
     },
     "execution_count": 50,
     "metadata": {},
     "output_type": "execute_result"
    }
   ],
   "source": [
    "#creating a dataframe of probabilites, actual labels, predicted labels for genral check\n",
    "\n",
    "probabilities = gradient_boost_model1.predict_proba(X_train)\n",
    "\n",
    "predicted_labels = gradient_boost_model1.predict(X_train)\n",
    "\n",
    "results = pd.DataFrame({'Probability': probabilities[:, 1],\n",
    "                        'Actual_Label': y_train,\n",
    "                        'Predicted_Label': predicted_labels})\n",
    "\n",
    "results.sample(10)"
   ]
  },
  {
   "cell_type": "code",
   "execution_count": 51,
   "id": "09d39cd2",
   "metadata": {},
   "outputs": [
    {
     "data": {
      "text/html": [
       "<div>\n",
       "<style scoped>\n",
       "    .dataframe tbody tr th:only-of-type {\n",
       "        vertical-align: middle;\n",
       "    }\n",
       "\n",
       "    .dataframe tbody tr th {\n",
       "        vertical-align: top;\n",
       "    }\n",
       "\n",
       "    .dataframe thead th {\n",
       "        text-align: right;\n",
       "    }\n",
       "</style>\n",
       "<table border=\"1\" class=\"dataframe\">\n",
       "  <thead>\n",
       "    <tr style=\"text-align: right;\">\n",
       "      <th></th>\n",
       "      <th>Probability</th>\n",
       "      <th>Accuracy</th>\n",
       "      <th>Balanced Accuracy</th>\n",
       "      <th>Precision</th>\n",
       "      <th>Recall</th>\n",
       "      <th>F1 Score</th>\n",
       "    </tr>\n",
       "  </thead>\n",
       "  <tbody>\n",
       "    <tr>\n",
       "      <th>0</th>\n",
       "      <td>0.1</td>\n",
       "      <td>0.899454</td>\n",
       "      <td>0.881748</td>\n",
       "      <td>0.851133</td>\n",
       "      <td>1.000000</td>\n",
       "      <td>0.919580</td>\n",
       "    </tr>\n",
       "    <tr>\n",
       "      <th>1</th>\n",
       "      <td>0.2</td>\n",
       "      <td>0.945355</td>\n",
       "      <td>0.935733</td>\n",
       "      <td>0.913194</td>\n",
       "      <td>1.000000</td>\n",
       "      <td>0.954628</td>\n",
       "    </tr>\n",
       "    <tr>\n",
       "      <th>2</th>\n",
       "      <td>0.3</td>\n",
       "      <td>0.973770</td>\n",
       "      <td>0.969152</td>\n",
       "      <td>0.956364</td>\n",
       "      <td>1.000000</td>\n",
       "      <td>0.977695</td>\n",
       "    </tr>\n",
       "    <tr>\n",
       "      <th>3</th>\n",
       "      <td>0.4</td>\n",
       "      <td>0.992350</td>\n",
       "      <td>0.991672</td>\n",
       "      <td>0.990548</td>\n",
       "      <td>0.996198</td>\n",
       "      <td>0.993365</td>\n",
       "    </tr>\n",
       "    <tr>\n",
       "      <th>4</th>\n",
       "      <td>0.5</td>\n",
       "      <td>0.992350</td>\n",
       "      <td>0.992342</td>\n",
       "      <td>0.994286</td>\n",
       "      <td>0.992395</td>\n",
       "      <td>0.993340</td>\n",
       "    </tr>\n",
       "    <tr>\n",
       "      <th>5</th>\n",
       "      <td>0.6</td>\n",
       "      <td>0.989071</td>\n",
       "      <td>0.990494</td>\n",
       "      <td>1.000000</td>\n",
       "      <td>0.980989</td>\n",
       "      <td>0.990403</td>\n",
       "    </tr>\n",
       "    <tr>\n",
       "      <th>6</th>\n",
       "      <td>0.7</td>\n",
       "      <td>0.973770</td>\n",
       "      <td>0.977186</td>\n",
       "      <td>1.000000</td>\n",
       "      <td>0.954373</td>\n",
       "      <td>0.976654</td>\n",
       "    </tr>\n",
       "    <tr>\n",
       "      <th>7</th>\n",
       "      <td>0.8</td>\n",
       "      <td>0.950820</td>\n",
       "      <td>0.957224</td>\n",
       "      <td>1.000000</td>\n",
       "      <td>0.914449</td>\n",
       "      <td>0.955313</td>\n",
       "    </tr>\n",
       "    <tr>\n",
       "      <th>8</th>\n",
       "      <td>0.9</td>\n",
       "      <td>0.914754</td>\n",
       "      <td>0.925856</td>\n",
       "      <td>1.000000</td>\n",
       "      <td>0.851711</td>\n",
       "      <td>0.919918</td>\n",
       "    </tr>\n",
       "    <tr>\n",
       "      <th>9</th>\n",
       "      <td>1.0</td>\n",
       "      <td>0.425137</td>\n",
       "      <td>0.500000</td>\n",
       "      <td>1.000000</td>\n",
       "      <td>0.000000</td>\n",
       "      <td>0.000000</td>\n",
       "    </tr>\n",
       "  </tbody>\n",
       "</table>\n",
       "</div>"
      ],
      "text/plain": [
       "   Probability  Accuracy  Balanced Accuracy  Precision    Recall  F1 Score\n",
       "0          0.1  0.899454           0.881748   0.851133  1.000000  0.919580\n",
       "1          0.2  0.945355           0.935733   0.913194  1.000000  0.954628\n",
       "2          0.3  0.973770           0.969152   0.956364  1.000000  0.977695\n",
       "3          0.4  0.992350           0.991672   0.990548  0.996198  0.993365\n",
       "4          0.5  0.992350           0.992342   0.994286  0.992395  0.993340\n",
       "5          0.6  0.989071           0.990494   1.000000  0.980989  0.990403\n",
       "6          0.7  0.973770           0.977186   1.000000  0.954373  0.976654\n",
       "7          0.8  0.950820           0.957224   1.000000  0.914449  0.955313\n",
       "8          0.9  0.914754           0.925856   1.000000  0.851711  0.919918\n",
       "9          1.0  0.425137           0.500000   1.000000  0.000000  0.000000"
      ]
     },
     "execution_count": 51,
     "metadata": {},
     "output_type": "execute_result"
    }
   ],
   "source": [
    "#check evaulation metrics for different thresholds\n",
    "\n",
    "thresholds = [0.1, 0.2, 0.3, 0.4, 0.5, 0.6, 0.7, 0.8, 0.9, 1.0]\n",
    "\n",
    "# Creating an empty DataFrame to store the evaluation metrics\n",
    "metrics_df = pd.DataFrame(columns=['Probability', 'Accuracy', 'Balanced Accuracy', 'Precision', 'Recall', 'F1 Score'])\n",
    "\n",
    "# Iterating over the probability thresholds\n",
    "for threshold in thresholds:\n",
    "    # Converting probabilities to predicted labels based on the threshold\n",
    "    predicted_labels = (probabilities[:, 1] >= threshold).astype(int)\n",
    "\n",
    "    # Calculating evaluation metrics\n",
    "    accuracy = accuracy_score(y_train, predicted_labels)\n",
    "    balanced_accuracy = balanced_accuracy_score(y_train, predicted_labels)\n",
    "    precision = precision_score(y_train, predicted_labels, zero_division=1)\n",
    "    recall = recall_score(y_train, predicted_labels, zero_division=1)\n",
    "    f1 = f1_score(y_train, predicted_labels, zero_division=1)\n",
    "\n",
    "    # Adding the metrics to the DataFrame\n",
    "    metrics_df = pd.concat([metrics_df, pd.DataFrame({'Probability': [threshold],\n",
    "                                                      'Accuracy': [accuracy],\n",
    "                                                      'Balanced Accuracy': [balanced_accuracy],\n",
    "                                                      'Precision': [precision],\n",
    "                                                      'Recall': [recall],\n",
    "                                                      'F1 Score': [f1]})], ignore_index=True)\n",
    "metrics_df"
   ]
  },
  {
   "cell_type": "markdown",
   "id": "deb087ac",
   "metadata": {},
   "source": [
    "## Chek the Trade-Off Between Accuracy, Sensitivity, Specitivity, F-1 Score and Probabilities (Thresholds)"
   ]
  },
  {
   "cell_type": "code",
   "execution_count": 52,
   "id": "732b8990",
   "metadata": {},
   "outputs": [
    {
     "data": {
      "image/png": "[encoded data removed]",
      "text/plain": [
       "<Figure size 600x400 with 1 Axes>"
      ]
     },
     "metadata": {},
     "output_type": "display_data"
    }
   ],
   "source": [
    "from sklearn.metrics import confusion_matrix\n",
    "\n",
    "# Calculate predicted probabilities for the train data\n",
    "train_probabilities = gradient_boost_model1.predict_proba(X_train)[:, 1]\n",
    "\n",
    "# Apply different thresholds to obtain binary predictions for train data\n",
    "thresholds = np.arange(0, 1.1, 0.1)\n",
    "sensitivity = []\n",
    "specificity = []\n",
    "accuracy = []\n",
    "f1_scores = []\n",
    "\n",
    "for threshold in thresholds:\n",
    "    train_predictions = (train_probabilities >= threshold).astype(int)\n",
    "    tn, fp, fn, tp = confusion_matrix(y_train, train_predictions).ravel()\n",
    "    sensitivity.append(tp / (tp + fn))\n",
    "    specificity.append(tn / (tn + fp))\n",
    "    accuracy.append((tp + tn) / (tp + tn + fp + fn))\n",
    "    f1_scores.append(f1_score(y_train, train_predictions))\n",
    "\n",
    "# Plot the sensitivity, specificity, accuracy, and F1 score against probability thresholds\n",
    "plt.figure(figsize=(6,4))\n",
    "plt.plot(thresholds, sensitivity, label='Sensitivity')\n",
    "plt.plot(thresholds, specificity, label='Specificity')\n",
    "plt.plot(thresholds, accuracy, label='Accuracy')\n",
    "plt.plot(thresholds, f1_scores, label='F1 Score')\n",
    "plt.xlabel('Probability Threshold')\n",
    "plt.xticks(np.arange(0, 1.1, 0.1))\n",
    "plt.ylabel('Metric Value')\n",
    "plt.title('Metrics vs. Probability Threshold')\n",
    "plt.legend(loc='lower left')\n",
    "plt.show()"
   ]
  },
  {
   "cell_type": "markdown",
   "id": "13df2079",
   "metadata": {},
   "source": [
    "**It seems that by default 0.5 is correct threshold.**"
   ]
  },
  {
   "cell_type": "markdown",
   "id": "e9bd3123",
   "metadata": {},
   "source": [
    "# Evaulate model"
   ]
  },
  {
   "cell_type": "code",
   "execution_count": 53,
   "id": "bff34ee6",
   "metadata": {},
   "outputs": [
    {
     "data": {
      "text/html": [
       "<div>\n",
       "<style scoped>\n",
       "    .dataframe tbody tr th:only-of-type {\n",
       "        vertical-align: middle;\n",
       "    }\n",
       "\n",
       "    .dataframe tbody tr th {\n",
       "        vertical-align: top;\n",
       "    }\n",
       "\n",
       "    .dataframe thead th {\n",
       "        text-align: right;\n",
       "    }\n",
       "</style>\n",
       "<table border=\"1\" class=\"dataframe\">\n",
       "  <thead>\n",
       "    <tr style=\"text-align: right;\">\n",
       "      <th></th>\n",
       "      <th>Data</th>\n",
       "      <th>Accuracy</th>\n",
       "      <th>Balanced Accuracy</th>\n",
       "      <th>Precision</th>\n",
       "      <th>Recall</th>\n",
       "      <th>F1-score</th>\n",
       "    </tr>\n",
       "  </thead>\n",
       "  <tbody>\n",
       "    <tr>\n",
       "      <th>0</th>\n",
       "      <td>Training</td>\n",
       "      <td>0.992350</td>\n",
       "      <td>0.992342</td>\n",
       "      <td>0.994286</td>\n",
       "      <td>0.992395</td>\n",
       "      <td>0.993340</td>\n",
       "    </tr>\n",
       "    <tr>\n",
       "      <th>1</th>\n",
       "      <td>Test</td>\n",
       "      <td>0.977099</td>\n",
       "      <td>0.981328</td>\n",
       "      <td>1.000000</td>\n",
       "      <td>0.962656</td>\n",
       "      <td>0.980973</td>\n",
       "    </tr>\n",
       "  </tbody>\n",
       "</table>\n",
       "</div>"
      ],
      "text/plain": [
       "       Data  Accuracy  Balanced Accuracy  Precision    Recall  F1-score\n",
       "0  Training  0.992350           0.992342   0.994286  0.992395  0.993340\n",
       "1      Test  0.977099           0.981328   1.000000  0.962656  0.980973"
      ]
     },
     "execution_count": 53,
     "metadata": {},
     "output_type": "execute_result"
    }
   ],
   "source": [
    "# Predictions on training data\n",
    "y_train_pred = gradient_boost_model1.predict(X_train)\n",
    "\n",
    "# Predictions on test data\n",
    "y_test_pred = gradient_boost_model1.predict(X_test)\n",
    "\n",
    "# Create the results dictionary for both training and test data\n",
    "results = {\n",
    "    'Data': ['Training', 'Test'],\n",
    "    'Accuracy': [accuracy_score(y_train, y_train_pred), accuracy_score(y_test, y_test_pred)],\n",
    "    'Balanced Accuracy': [balanced_accuracy_score(y_train, y_train_pred), balanced_accuracy_score(y_test, y_test_pred)],\n",
    "    'Precision': [precision_score(y_train, y_train_pred), precision_score(y_test, y_test_pred)],\n",
    "    'Recall': [recall_score(y_train, y_train_pred), recall_score(y_test, y_test_pred)],\n",
    "    'F1-score': [f1_score(y_train, y_train_pred), f1_score(y_test, y_test_pred)]\n",
    "}\n",
    "\n",
    "\n",
    "df_results = pd.DataFrame(results)\n",
    "df_results"
   ]
  },
  {
   "cell_type": "markdown",
   "id": "66f729b7",
   "metadata": {},
   "source": [
    "## Confusion Matrix"
   ]
  },
  {
   "cell_type": "code",
   "execution_count": 54,
   "id": "5c02795d",
   "metadata": {},
   "outputs": [
    {
     "data": {
      "text/html": [
       "<div>\n",
       "<style scoped>\n",
       "    .dataframe tbody tr th:only-of-type {\n",
       "        vertical-align: middle;\n",
       "    }\n",
       "\n",
       "    .dataframe tbody tr th {\n",
       "        vertical-align: top;\n",
       "    }\n",
       "\n",
       "    .dataframe thead th {\n",
       "        text-align: right;\n",
       "    }\n",
       "</style>\n",
       "<table border=\"1\" class=\"dataframe\">\n",
       "  <thead>\n",
       "    <tr style=\"text-align: right;\">\n",
       "      <th></th>\n",
       "      <th>Metric</th>\n",
       "      <th>Training Set</th>\n",
       "      <th>Test Set</th>\n",
       "    </tr>\n",
       "  </thead>\n",
       "  <tbody>\n",
       "    <tr>\n",
       "      <th>0</th>\n",
       "      <td>True Positive (%)</td>\n",
       "      <td>57.049180</td>\n",
       "      <td>59.033079</td>\n",
       "    </tr>\n",
       "    <tr>\n",
       "      <th>1</th>\n",
       "      <td>True Negative (%)</td>\n",
       "      <td>42.185792</td>\n",
       "      <td>38.676845</td>\n",
       "    </tr>\n",
       "    <tr>\n",
       "      <th>2</th>\n",
       "      <td>False Positive (%)</td>\n",
       "      <td>0.327869</td>\n",
       "      <td>0.000000</td>\n",
       "    </tr>\n",
       "    <tr>\n",
       "      <th>3</th>\n",
       "      <td>False Negative (%)</td>\n",
       "      <td>0.437158</td>\n",
       "      <td>2.290076</td>\n",
       "    </tr>\n",
       "  </tbody>\n",
       "</table>\n",
       "</div>"
      ],
      "text/plain": [
       "               Metric  Training Set   Test Set\n",
       "0   True Positive (%)     57.049180  59.033079\n",
       "1   True Negative (%)     42.185792  38.676845\n",
       "2  False Positive (%)      0.327869   0.000000\n",
       "3  False Negative (%)      0.437158   2.290076"
      ]
     },
     "execution_count": 54,
     "metadata": {},
     "output_type": "execute_result"
    }
   ],
   "source": [
    "# Get predictions for training data\n",
    "train_predictions = gradient_boost_model1.predict(X_train)\n",
    "\n",
    "# Get predictions for test data (validation data)\n",
    "test_predictions = gradient_boost_model1.predict(X_test)\n",
    "\n",
    "# Calculate the confusion matrix for training data\n",
    "confusion_train = confusion_matrix(y_train, train_predictions)\n",
    "\n",
    "# Calculate the confusion matrix for test data (validation data)\n",
    "confusion_test = confusion_matrix(y_test, test_predictions)\n",
    "\n",
    "# Calculate the percentages for confusion matrix\n",
    "total_train = confusion_train.sum()\n",
    "total_test = confusion_test.sum()\n",
    "\n",
    "true_positive_train = (confusion_train[1, 1] / total_train) * 100\n",
    "true_negative_train = (confusion_train[0, 0] / total_train) * 100\n",
    "false_positive_train = (confusion_train[0, 1] / total_train) * 100\n",
    "false_negative_train = (confusion_train[1, 0] / total_train) * 100\n",
    "\n",
    "true_positive_test = (confusion_test[1, 1] / total_test) * 100\n",
    "true_negative_test = (confusion_test[0, 0] / total_test) * 100\n",
    "false_positive_test = (confusion_test[0, 1] / total_test) * 100\n",
    "false_negative_test = (confusion_test[1, 0] / total_test) * 100\n",
    "\n",
    "# Create a DataFrame to display the results\n",
    "results = {\n",
    "    'Metric': ['True Positive (%)', 'True Negative (%)', 'False Positive (%)', 'False Negative (%)'],\n",
    "    'Training Set': [true_positive_train, true_negative_train, false_positive_train, false_negative_train],\n",
    "    'Test Set': [true_positive_test, true_negative_test, false_positive_test, false_negative_test]\n",
    "}\n",
    "\n",
    "df_results = pd.DataFrame(results)\n",
    "df_results"
   ]
  },
  {
   "cell_type": "markdown",
   "id": "51cd63c9",
   "metadata": {},
   "source": [
    "## ROC-AUC Curve\n",
    "The ROC-AUC curve is typically plotted using the predictions and true labels on the test data. This allows us to evaluate the performance of the model on unseen data and assess its ability to generalize."
   ]
  },
  {
   "cell_type": "code",
   "execution_count": 55,
   "id": "2b35e513",
   "metadata": {},
   "outputs": [
    {
     "data": {
      "image/png": "[encoded data removed]",
      "text/plain": [
       "<Figure size 600x400 with 1 Axes>"
      ]
     },
     "metadata": {},
     "output_type": "display_data"
    },
    {
     "data": {
      "image/png": "[encoded data removed]",
      "text/plain": [
       "<Figure size 600x400 with 1 Axes>"
      ]
     },
     "metadata": {},
     "output_type": "display_data"
    }
   ],
   "source": [
    "from sklearn.metrics import roc_curve, roc_auc_score\n",
    "\n",
    "# Get predicted probabilities for training data\n",
    "train_probabilities = gradient_boost_model1.predict_proba(X_train)[:, 1]\n",
    "\n",
    "# Get predicted probabilities for test data\n",
    "test_probabilities = gradient_boost_model1.predict_proba(X_test)[:, 1]\n",
    "\n",
    "# Calculate ROC curve and AUC for training data\n",
    "fpr_train, tpr_train, thresholds_train = roc_curve(y_train, train_probabilities)\n",
    "auc_train = roc_auc_score(y_train, train_probabilities)\n",
    "\n",
    "# Calculate ROC curve and AUC for test data\n",
    "fpr_test, tpr_test, thresholds_test = roc_curve(y_test, test_probabilities)\n",
    "auc_test = roc_auc_score(y_test, test_probabilities)\n",
    "\n",
    "# Plot ROC curve for training data\n",
    "plt.figure(figsize=(6,4))\n",
    "plt.plot(fpr_train, tpr_train, label=f'Training Data (AUC = {auc_train:.2f})')\n",
    "plt.plot([0, 1], [0, 1], 'k--')\n",
    "plt.xlabel('False Positive Rate')\n",
    "plt.ylabel('True Positive Rate')\n",
    "plt.title('ROC Curve - Training Data')\n",
    "plt.legend(loc='lower right')\n",
    "\n",
    "# Plot ROC curve for test data\n",
    "plt.figure(figsize=(6,4))\n",
    "plt.plot(fpr_test, tpr_test, label=f'Test Data (AUC = {auc_test:.2f})')\n",
    "plt.plot([0, 1], [0, 1], 'k--')\n",
    "plt.xlabel('False Positive Rate')\n",
    "plt.ylabel('True Positive Rate')\n",
    "plt.title('ROC Curve - Test Data')\n",
    "plt.legend(loc='lower right')\n",
    "\n",
    "# Display the plots\n",
    "plt.show()"
   ]
  },
  {
   "cell_type": "markdown",
   "id": "82b29695",
   "metadata": {},
   "source": [
    "## Cross Validation"
   ]
  },
  {
   "cell_type": "code",
   "execution_count": 56,
   "id": "fdd39063",
   "metadata": {},
   "outputs": [
    {
     "name": "stdout",
     "output_type": "stream",
     "text": [
      "Cross-Validation Scores: [0.96174863 0.94535519 0.94535519 0.9726776  0.97814208]\n",
      "\n",
      "Mean Accuracy Score: 0.960655737704918\n"
     ]
    }
   ],
   "source": [
    "#cross validation of Accuracy\n",
    "\n",
    "from sklearn.model_selection import cross_val_score\n",
    "\n",
    "scores = cross_val_score(gradient_boost_model1, X_train, y_train, cv=5, scoring='accuracy',n_jobs=-1)\n",
    "\n",
    "print(\"Cross-Validation Scores:\", scores)\n",
    "print()\n",
    "print(\"Mean Accuracy Score:\", scores.mean())"
   ]
  },
  {
   "cell_type": "markdown",
   "id": "e2073e69",
   "metadata": {},
   "source": [
    "## Important features"
   ]
  },
  {
   "cell_type": "code",
   "execution_count": 57,
   "id": "74087d4f",
   "metadata": {},
   "outputs": [
    {
     "data": {
      "text/html": [
       "<div>\n",
       "<style scoped>\n",
       "    .dataframe tbody tr th:only-of-type {\n",
       "        vertical-align: middle;\n",
       "    }\n",
       "\n",
       "    .dataframe tbody tr th {\n",
       "        vertical-align: top;\n",
       "    }\n",
       "\n",
       "    .dataframe thead th {\n",
       "        text-align: right;\n",
       "    }\n",
       "</style>\n",
       "<table border=\"1\" class=\"dataframe\">\n",
       "  <thead>\n",
       "    <tr style=\"text-align: right;\">\n",
       "      <th></th>\n",
       "      <th>Feature</th>\n",
       "      <th>Importance</th>\n",
       "    </tr>\n",
       "  </thead>\n",
       "  <tbody>\n",
       "    <tr>\n",
       "      <th>0</th>\n",
       "      <td>bmi</td>\n",
       "      <td>0.371550</td>\n",
       "    </tr>\n",
       "    <tr>\n",
       "      <th>1</th>\n",
       "      <td>children</td>\n",
       "      <td>0.242133</td>\n",
       "    </tr>\n",
       "    <tr>\n",
       "      <th>2</th>\n",
       "      <td>charges</td>\n",
       "      <td>0.169531</td>\n",
       "    </tr>\n",
       "    <tr>\n",
       "      <th>3</th>\n",
       "      <td>age</td>\n",
       "      <td>0.097638</td>\n",
       "    </tr>\n",
       "    <tr>\n",
       "      <th>4</th>\n",
       "      <td>smoker</td>\n",
       "      <td>0.082022</td>\n",
       "    </tr>\n",
       "    <tr>\n",
       "      <th>5</th>\n",
       "      <td>region</td>\n",
       "      <td>0.027163</td>\n",
       "    </tr>\n",
       "    <tr>\n",
       "      <th>6</th>\n",
       "      <td>sex</td>\n",
       "      <td>0.009963</td>\n",
       "    </tr>\n",
       "  </tbody>\n",
       "</table>\n",
       "</div>"
      ],
      "text/plain": [
       "    Feature  Importance\n",
       "0       bmi    0.371550\n",
       "1  children    0.242133\n",
       "2   charges    0.169531\n",
       "3       age    0.097638\n",
       "4    smoker    0.082022\n",
       "5    region    0.027163\n",
       "6       sex    0.009963"
      ]
     },
     "execution_count": 57,
     "metadata": {},
     "output_type": "execute_result"
    }
   ],
   "source": [
    "feature_importance_df"
   ]
  },
  {
   "cell_type": "markdown",
   "id": "8d99fa59",
   "metadata": {},
   "source": [
    "**BMI, Children, and Charges represents around 78.32% of the variance in the target variable.**"
   ]
  },
  {
   "cell_type": "markdown",
   "id": "cd2e5ab0",
   "metadata": {},
   "source": [
    "# Save the model to a file"
   ]
  },
  {
   "cell_type": "code",
   "execution_count": 58,
   "id": "1e64616d",
   "metadata": {},
   "outputs": [
    {
     "data": {
      "text/plain": [
       "['Insurance_Claim.pkl']"
      ]
     },
     "execution_count": 58,
     "metadata": {},
     "output_type": "execute_result"
    }
   ],
   "source": [
    "import joblib\n",
    "\n",
    "model = gradient_boost_model1\n",
    "\n",
    "joblib.dump(model, 'Insurance_Claim.pkl')"
   ]
  },
  {
   "cell_type": "code",
   "execution_count": null,
   "id": "61c03e99",
   "metadata": {},
   "outputs": [],
   "source": []
  },
  {
   "cell_type": "markdown",
   "id": "c091f821",
   "metadata": {},
   "source": [
    "# Model Building Report\n",
    "\n",
    "### `Introduction`\n",
    "\n",
    "In this model building project, the goal was to develop a classification model to predict insurance claim outcomes based on various features. We trained and evaluated multiple classification algorithms using training and test datasets. The report provides a comprehensive overview of the model building process, performance evaluation, and the final selected model.\n",
    "\n",
    "### `Data Overview`\n",
    "\n",
    "The dataset contains 1338 observations and 8 variables, with no missing values and correct data types. After removing one duplicate observation, the data was ready for further analysis.\n",
    "\n",
    "### `Exploratory Data Analysis (EDA)`\n",
    "EDA revealed several insights about the dataset:\n",
    "\n",
    "* Most people's ages fall between 18 and 51 years.\n",
    "\n",
    "\n",
    "* About 50% of people have one child, and 25% have two children.\n",
    "\n",
    "\n",
    "* The majority of people are non-smokers and have claimed insurance.\n",
    "\n",
    "\n",
    "* The correlation analysis indicated a slightly high positive correlation between 'Charges' and 'Smoker', indicating higher insurance charges for smokers.\n",
    "\n",
    "\n",
    "* Outliers were detected using the Z-Score method, and 29 outliers were removed, accounting for approximately 2% data loss.\n",
    "\n",
    "\n",
    "### `Model Selection`\n",
    "\n",
    "We trained various classification algorithms on the training data and evaluated their performance on both training and test sets. Among the models, the Gradient Boosting Classifier exhibited the best performance without overfitting, making it the final chosen model.\n",
    "\n",
    "### `Hyperparameter Tuning`\n",
    "\n",
    "We performed hyperparameter tuning on the selected Gradient Boosting model to optimize its performance. The best model achieved an impressive test accuracy of 0.9924.\n",
    "\n",
    "### `Model Evaluation`\n",
    "\n",
    "The final Gradient Boosting Classifier was evaluated on both the training and test datasets:\n",
    "\n",
    "**Evaluation Metrics on Training & Test Data:**\n",
    "\n",
    "|Metric|Training Data|Test Data|\n",
    "|--------|---------|--------|\n",
    "|Accuracy|0.9924| 0.9771|\n",
    "|Precision| 0.9943|1.0000|\n",
    "|Recall| 0.9924|0.9627|\n",
    "|F1-score| 0.9933|0.9809|\n",
    "|Balanced Accuracy| 0.9923|0.9813|\n",
    "\n",
    "\n",
    "The model demonstrated excellent performance on both datasets, with high accuracy, precision, recall, and F1-score. The balanced accuracy showed that the model effectively classified both classes without bias.\n",
    "\n",
    "### `Threshold Selection`\n",
    "Default threshold (0.5) was found to be suitable for the model.\n",
    "\n",
    "### `Confusion Matrix`\n",
    "The confusion matrix results on the training set and test set:\n",
    "\n",
    "|Elements|Training Data|Test Data| \n",
    "|---------|-------------|----|\n",
    "|True Positive| 57.05%|59.03%|\n",
    "|True Negative|42.19%|38.68%|\n",
    "|False Positive| 0.33%|0.00%|\n",
    "|False Negative| 0.44%|2.29%|\n",
    "\n",
    "### `ROC-AUC Curve`\n",
    "\n",
    "The ROC-AUC curve for both training and test data resulted in an AUC of 1.00, indicating excellent model performance in distinguishing between the classes.\n",
    "\n",
    "### `Cross-Validation`\n",
    "Cross-validation was performed, and the model achieved consistent F1 scores of approximately 0.96 on average, indicating robust and reliable performance.\n",
    "\n",
    "### `Feature Importance`\n",
    "Feature Importance analysis revealed that 'BMI', 'Children', and 'Charges' are the most significant variables, contributing to around 78.32% of the variance in the target variable.\n",
    "\n",
    "### `Conclusion`\n",
    "The Gradient Boosting Classifier proved to be the best model for the insurance claim prediction task, demonstrating outstanding performance on both training and test datasets. Its ability to generalize and handle class imbalances makes it a reliable model for real-world predictions. The feature importance analysis provided valuable insights into the factors influencing insurance claim outcomes. The saved model will be useful for making predictions on new data in the future."
   ]
  },
  {
   "cell_type": "code",
   "execution_count": null,
   "id": "7cc258d9",
   "metadata": {},
   "outputs": [],
   "source": []
  }
 ],
 "metadata": {
  "kernelspec": {
   "display_name": "Python 3 (ipykernel)",
   "language": "python",
   "name": "python3"
  },
  "language_info": {
   "codemirror_mode": {
    "name": "ipython",
    "version": 3
   },
   "file_extension": ".py",
   "mimetype": "text/x-python",
   "name": "python",
   "nbconvert_exporter": "python",
   "pygments_lexer": "ipython3",
   "version": "3.9.13"
  }
 },
 "nbformat": 4,
 "nbformat_minor": 5
}
